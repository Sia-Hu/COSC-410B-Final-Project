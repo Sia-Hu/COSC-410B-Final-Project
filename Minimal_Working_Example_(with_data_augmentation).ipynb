{
  "cells": [
    {
      "cell_type": "markdown",
      "metadata": {
        "id": "EWK9H5WND4wq"
      },
      "source": [
        "# Data description and preprocessing"
      ]
    },
    {
      "cell_type": "markdown",
      "metadata": {
        "id": "yoITRzxVD8IY"
      },
      "source": [
        "1, Load dataset"
      ]
    },
    {
      "cell_type": "code",
      "execution_count": 1,
      "metadata": {
        "id": "SuWZjeolBdY4"
      },
      "outputs": [],
      "source": [
        "import os\n",
        "import pandas as pd\n",
        "dataset_path = '/Users/huxiyan/Desktop/H/25Spring/COSC410/TrashType_Image_Dataset'\n",
        "garbage_types = [d for d in os.listdir(dataset_path) if os.path.isdir(os.path.join(dataset_path, d))]\n",
        "\n",
        "dat = []\n",
        "for garbage_type in garbage_types:\n",
        "    folder_path = os.path.join(dataset_path, garbage_type)\n",
        "    for file in os.listdir(folder_path):\n",
        "        dat.append((os.path.join(dataset_path, garbage_type, file), garbage_type))\n",
        "\n",
        "df = pd.DataFrame(dat, columns=['filepath', 'label'])"
      ]
    },
    {
      "cell_type": "markdown",
      "metadata": {
        "id": "FNeLnUq-Ell6"
      },
      "source": [
        "2. Split"
      ]
    },
    {
      "cell_type": "code",
      "execution_count": 2,
      "metadata": {
        "colab": {
          "base_uri": "https://localhost:8080/"
        },
        "id": "ZEw6fzrsEirp",
        "outputId": "347f517a-9fe9-499f-9a5f-06b124da9b23"
      },
      "outputs": [
        {
          "name": "stdout",
          "output_type": "stream",
          "text": [
            "Number of images in the data set: 2527\n",
            "Number of images in the training set: 2021\n",
            "Number of images in the test set: 506\n"
          ]
        }
      ],
      "source": [
        "from sklearn.model_selection import train_test_split\n",
        "\n",
        "train_set, test_set = train_test_split(df, test_size=0.2, random_state=42, stratify=df['label'])\n",
        "\n",
        "print(f\"Number of images in the data set: {len(df)}\")\n",
        "print(f\"Number of images in the training set: {len(train_set)}\")\n",
        "print(f\"Number of images in the test set: {len(test_set)}\")"
      ]
    },
    {
      "cell_type": "markdown",
      "metadata": {
        "id": "PmhvhLFWExwJ"
      },
      "source": [
        "3. With Augmentation"
      ]
    },
    {
      "cell_type": "code",
      "execution_count": 3,
      "metadata": {
        "colab": {
          "base_uri": "https://localhost:8080/"
        },
        "id": "rEo1TV-kE6je",
        "outputId": "f9ac6215-835f-4405-8787-e92faad5bb20"
      },
      "outputs": [
        {
          "name": "stdout",
          "output_type": "stream",
          "text": [
            "Found 2021 validated image filenames belonging to 6 classes.\n",
            "Found 506 validated image filenames belonging to 6 classes.\n"
          ]
        }
      ],
      "source": [
        "from tensorflow.keras.preprocessing.image import ImageDataGenerator\n",
        "\n",
        "img_size = (128, 128)\n",
        "batch_size = 32\n",
        "\n",
        "datagen = ImageDataGenerator()\n",
        "\n",
        "# Slight Augmentation for training\n",
        "train_datagen = ImageDataGenerator(\n",
        "    rescale=1./255,\n",
        "    rotation_range=45,\n",
        "    width_shift_range=0.15,\n",
        "    height_shift_range=0.15,\n",
        "    zoom_range=0.15,\n",
        "    horizontal_flip=True,\n",
        "    vertical_flip=True,\n",
        "    shear_range=0.05,\n",
        "    brightness_range=[0.9, 1.1],\n",
        "    channel_shift_range=10,\n",
        "    fill_mode='nearest'\n",
        ")\n",
        "\n",
        "train_generator_aug = train_datagen.flow_from_dataframe(\n",
        "    train_set,\n",
        "    x_col='filepath',\n",
        "    y_col='label',\n",
        "    target_size=img_size,\n",
        "    batch_size=batch_size,\n",
        "    class_mode='categorical'\n",
        ")\n",
        "\n",
        "test_generator = datagen.flow_from_dataframe(\n",
        "    test_set,\n",
        "    x_col='filepath',\n",
        "    y_col='label',\n",
        "    target_size=img_size,\n",
        "    batch_size=batch_size,\n",
        "    class_mode='categorical',\n",
        "    shuffle=False\n",
        ")"
      ]
    },
    {
      "cell_type": "markdown",
      "metadata": {
        "id": "OhgQw5OlFa8C"
      },
      "source": [
        "# Model Training"
      ]
    },
    {
      "cell_type": "code",
      "execution_count": 4,
      "metadata": {
        "colab": {
          "base_uri": "https://localhost:8080/"
        },
        "id": "lctUyJWjFdGp",
        "outputId": "0f495048-d8f4-44f5-f3f6-4199f36a2c0e"
      },
      "outputs": [
        {
          "name": "stdout",
          "output_type": "stream",
          "text": [
            "Epoch 1/30\n"
          ]
        },
        {
          "name": "stderr",
          "output_type": "stream",
          "text": [
            "/Users/huxiyan/Desktop/H/25Spring/COSC410/.venv/lib/python3.10/site-packages/keras/src/layers/convolutional/base_conv.py:107: UserWarning: Do not pass an `input_shape`/`input_dim` argument to a layer. When using Sequential models, prefer using an `Input(shape)` object as the first layer in the model instead.\n",
            "  super().__init__(activity_regularizer=activity_regularizer, **kwargs)\n",
            "/Users/huxiyan/Desktop/H/25Spring/COSC410/.venv/lib/python3.10/site-packages/keras/src/trainers/data_adapters/py_dataset_adapter.py:121: UserWarning: Your `PyDataset` class should call `super().__init__(**kwargs)` in its constructor. `**kwargs` can include `workers`, `use_multiprocessing`, `max_queue_size`. Do not pass these arguments to `fit()`, as they will be ignored.\n",
            "  self._warn_if_super_not_called()\n"
          ]
        },
        {
          "name": "stdout",
          "output_type": "stream",
          "text": [
            "\u001b[1m64/64\u001b[0m \u001b[32m━━━━━━━━━━━━━━━━━━━━\u001b[0m\u001b[37m\u001b[0m \u001b[1m9s\u001b[0m 129ms/step - accuracy: 0.2341 - loss: 1.7853 - val_accuracy: 0.3281 - val_loss: 142.9540\n",
            "Epoch 2/30\n",
            "\u001b[1m64/64\u001b[0m \u001b[32m━━━━━━━━━━━━━━━━━━━━\u001b[0m\u001b[37m\u001b[0m \u001b[1m9s\u001b[0m 134ms/step - accuracy: 0.3452 - loss: 1.5569 - val_accuracy: 0.3854 - val_loss: 87.8644\n",
            "Epoch 3/30\n",
            "\u001b[1m64/64\u001b[0m \u001b[32m━━━━━━━━━━━━━━━━━━━━\u001b[0m\u001b[37m\u001b[0m \u001b[1m9s\u001b[0m 141ms/step - accuracy: 0.3929 - loss: 1.4764 - val_accuracy: 0.3794 - val_loss: 120.7578\n",
            "Epoch 4/30\n",
            "\u001b[1m64/64\u001b[0m \u001b[32m━━━━━━━━━━━━━━━━━━━━\u001b[0m\u001b[37m\u001b[0m \u001b[1m8s\u001b[0m 132ms/step - accuracy: 0.3959 - loss: 1.4793 - val_accuracy: 0.4545 - val_loss: 99.6557\n",
            "Epoch 5/30\n",
            "\u001b[1m64/64\u001b[0m \u001b[32m━━━━━━━━━━━━━━━━━━━━\u001b[0m\u001b[37m\u001b[0m \u001b[1m9s\u001b[0m 136ms/step - accuracy: 0.4496 - loss: 1.3330 - val_accuracy: 0.4130 - val_loss: 142.9874\n",
            "Epoch 6/30\n",
            "\u001b[1m64/64\u001b[0m \u001b[32m━━━━━━━━━━━━━━━━━━━━\u001b[0m\u001b[37m\u001b[0m \u001b[1m9s\u001b[0m 141ms/step - accuracy: 0.4736 - loss: 1.3375 - val_accuracy: 0.5020 - val_loss: 91.4073\n",
            "Epoch 7/30\n",
            "\u001b[1m64/64\u001b[0m \u001b[32m━━━━━━━━━━━━━━━━━━━━\u001b[0m\u001b[37m\u001b[0m \u001b[1m9s\u001b[0m 132ms/step - accuracy: 0.4993 - loss: 1.2959 - val_accuracy: 0.5020 - val_loss: 88.3192\n",
            "Epoch 8/30\n",
            "\u001b[1m64/64\u001b[0m \u001b[32m━━━━━━━━━━━━━━━━━━━━\u001b[0m\u001b[37m\u001b[0m \u001b[1m9s\u001b[0m 142ms/step - accuracy: 0.5000 - loss: 1.2758 - val_accuracy: 0.4229 - val_loss: 126.0934\n",
            "Epoch 9/30\n",
            "\u001b[1m64/64\u001b[0m \u001b[32m━━━━━━━━━━━━━━━━━━━━\u001b[0m\u001b[37m\u001b[0m \u001b[1m9s\u001b[0m 141ms/step - accuracy: 0.5056 - loss: 1.2731 - val_accuracy: 0.4229 - val_loss: 140.3400\n",
            "Epoch 10/30\n",
            "\u001b[1m64/64\u001b[0m \u001b[32m━━━━━━━━━━━━━━━━━━━━\u001b[0m\u001b[37m\u001b[0m \u001b[1m9s\u001b[0m 137ms/step - accuracy: 0.5188 - loss: 1.2318 - val_accuracy: 0.4387 - val_loss: 143.8681\n",
            "Epoch 11/30\n",
            "\u001b[1m64/64\u001b[0m \u001b[32m━━━━━━━━━━━━━━━━━━━━\u001b[0m\u001b[37m\u001b[0m \u001b[1m9s\u001b[0m 143ms/step - accuracy: 0.5572 - loss: 1.1957 - val_accuracy: 0.4664 - val_loss: 131.1991\n",
            "Epoch 12/30\n",
            "\u001b[1m64/64\u001b[0m \u001b[32m━━━━━━━━━━━━━━━━━━━━\u001b[0m\u001b[37m\u001b[0m \u001b[1m9s\u001b[0m 143ms/step - accuracy: 0.5513 - loss: 1.1489 - val_accuracy: 0.4170 - val_loss: 155.7058\n",
            "Epoch 13/30\n",
            "\u001b[1m64/64\u001b[0m \u001b[32m━━━━━━━━━━━━━━━━━━━━\u001b[0m\u001b[37m\u001b[0m \u001b[1m9s\u001b[0m 138ms/step - accuracy: 0.5129 - loss: 1.2464 - val_accuracy: 0.4407 - val_loss: 164.1425\n",
            "Epoch 14/30\n",
            "\u001b[1m64/64\u001b[0m \u001b[32m━━━━━━━━━━━━━━━━━━━━\u001b[0m\u001b[37m\u001b[0m \u001b[1m9s\u001b[0m 143ms/step - accuracy: 0.5660 - loss: 1.1529 - val_accuracy: 0.4091 - val_loss: 227.3997\n",
            "Epoch 15/30\n",
            "\u001b[1m64/64\u001b[0m \u001b[32m━━━━━━━━━━━━━━━━━━━━\u001b[0m\u001b[37m\u001b[0m \u001b[1m10s\u001b[0m 148ms/step - accuracy: 0.5794 - loss: 1.1351 - val_accuracy: 0.5336 - val_loss: 111.1479\n",
            "Epoch 16/30\n",
            "\u001b[1m64/64\u001b[0m \u001b[32m━━━━━━━━━━━━━━━━━━━━\u001b[0m\u001b[37m\u001b[0m \u001b[1m9s\u001b[0m 143ms/step - accuracy: 0.5853 - loss: 1.1192 - val_accuracy: 0.4704 - val_loss: 137.2213\n",
            "Epoch 17/30\n",
            "\u001b[1m64/64\u001b[0m \u001b[32m━━━━━━━━━━━━━━━━━━━━\u001b[0m\u001b[37m\u001b[0m \u001b[1m9s\u001b[0m 147ms/step - accuracy: 0.5752 - loss: 1.1449 - val_accuracy: 0.5296 - val_loss: 123.4669\n",
            "Epoch 18/30\n",
            "\u001b[1m64/64\u001b[0m \u001b[32m━━━━━━━━━━━━━━━━━━━━\u001b[0m\u001b[37m\u001b[0m \u001b[1m9s\u001b[0m 144ms/step - accuracy: 0.5851 - loss: 1.1256 - val_accuracy: 0.3162 - val_loss: 234.3340\n",
            "Epoch 19/30\n",
            "\u001b[1m64/64\u001b[0m \u001b[32m━━━━━━━━━━━━━━━━━━━━\u001b[0m\u001b[37m\u001b[0m \u001b[1m9s\u001b[0m 145ms/step - accuracy: 0.5012 - loss: 1.2678 - val_accuracy: 0.4743 - val_loss: 113.9129\n",
            "Epoch 20/30\n",
            "\u001b[1m64/64\u001b[0m \u001b[32m━━━━━━━━━━━━━━━━━━━━\u001b[0m\u001b[37m\u001b[0m \u001b[1m9s\u001b[0m 143ms/step - accuracy: 0.5688 - loss: 1.1535 - val_accuracy: 0.4308 - val_loss: 194.7863\n",
            "Epoch 21/30\n",
            "\u001b[1m64/64\u001b[0m \u001b[32m━━━━━━━━━━━━━━━━━━━━\u001b[0m\u001b[37m\u001b[0m \u001b[1m10s\u001b[0m 153ms/step - accuracy: 0.5997 - loss: 1.0557 - val_accuracy: 0.3577 - val_loss: 239.6886\n",
            "Epoch 22/30\n",
            "\u001b[1m64/64\u001b[0m \u001b[32m━━━━━━━━━━━━━━━━━━━━\u001b[0m\u001b[37m\u001b[0m \u001b[1m10s\u001b[0m 149ms/step - accuracy: 0.5935 - loss: 1.0467 - val_accuracy: 0.4051 - val_loss: 242.0980\n",
            "Epoch 23/30\n",
            "\u001b[1m64/64\u001b[0m \u001b[32m━━━━━━━━━━━━━━━━━━━━\u001b[0m\u001b[37m\u001b[0m \u001b[1m10s\u001b[0m 151ms/step - accuracy: 0.5962 - loss: 1.0865 - val_accuracy: 0.3557 - val_loss: 216.7877\n",
            "Epoch 24/30\n",
            "\u001b[1m64/64\u001b[0m \u001b[32m━━━━━━━━━━━━━━━━━━━━\u001b[0m\u001b[37m\u001b[0m \u001b[1m9s\u001b[0m 146ms/step - accuracy: 0.6056 - loss: 1.0436 - val_accuracy: 0.4170 - val_loss: 155.2268\n",
            "Epoch 25/30\n",
            "\u001b[1m64/64\u001b[0m \u001b[32m━━━━━━━━━━━━━━━━━━━━\u001b[0m\u001b[37m\u001b[0m \u001b[1m10s\u001b[0m 153ms/step - accuracy: 0.5975 - loss: 1.0732 - val_accuracy: 0.4209 - val_loss: 231.0472\n",
            "Epoch 26/30\n",
            "\u001b[1m64/64\u001b[0m \u001b[32m━━━━━━━━━━━━━━━━━━━━\u001b[0m\u001b[37m\u001b[0m \u001b[1m10s\u001b[0m 149ms/step - accuracy: 0.6053 - loss: 1.0398 - val_accuracy: 0.4387 - val_loss: 264.0545\n",
            "Epoch 27/30\n",
            "\u001b[1m64/64\u001b[0m \u001b[32m━━━━━━━━━━━━━━━━━━━━\u001b[0m\u001b[37m\u001b[0m \u001b[1m9s\u001b[0m 146ms/step - accuracy: 0.6231 - loss: 1.0157 - val_accuracy: 0.3814 - val_loss: 207.9601\n",
            "Epoch 28/30\n",
            "\u001b[1m64/64\u001b[0m \u001b[32m━━━━━━━━━━━━━━━━━━━━\u001b[0m\u001b[37m\u001b[0m \u001b[1m9s\u001b[0m 143ms/step - accuracy: 0.5882 - loss: 1.0676 - val_accuracy: 0.3083 - val_loss: 381.9866\n",
            "Epoch 29/30\n",
            "\u001b[1m64/64\u001b[0m \u001b[32m━━━━━━━━━━━━━━━━━━━━\u001b[0m\u001b[37m\u001b[0m \u001b[1m9s\u001b[0m 146ms/step - accuracy: 0.6278 - loss: 0.9931 - val_accuracy: 0.4032 - val_loss: 477.6865\n",
            "Epoch 30/30\n",
            "\u001b[1m64/64\u001b[0m \u001b[32m━━━━━━━━━━━━━━━━━━━━\u001b[0m\u001b[37m\u001b[0m \u001b[1m10s\u001b[0m 151ms/step - accuracy: 0.6110 - loss: 0.9977 - val_accuracy: 0.3794 - val_loss: 286.7751\n"
          ]
        }
      ],
      "source": [
        "from tensorflow import keras\n",
        "from tensorflow.keras import layers\n",
        "\n",
        "model = keras.Sequential([\n",
        "    layers.Conv2D(32, (3, 3), activation='relu', input_shape=(128, 128, 3)),\n",
        "    layers.MaxPooling2D((2, 2)),\n",
        "\n",
        "    layers.Conv2D(64, (3, 3), activation='relu'),\n",
        "    layers.MaxPooling2D((2, 2)),\n",
        "\n",
        "    layers.Conv2D(128, (3, 3), activation='relu'),\n",
        "    layers.MaxPooling2D((2, 2)),\n",
        "\n",
        "    layers.Flatten(),\n",
        "    layers.Dense(128, activation='relu'),\n",
        "    layers.Dropout(0.5),\n",
        "    layers.Dense(len(garbage_types), activation='softmax')\n",
        "])\n",
        "\n",
        "model.compile(optimizer='adam',\n",
        "              loss='categorical_crossentropy',\n",
        "              metrics=['accuracy'])\n",
        "\n",
        "history = model.fit(train_generator_aug, epochs=30, validation_data=test_generator)"
      ]
    },
    {
      "cell_type": "markdown",
      "metadata": {
        "id": "VBJMAvPSFjrX"
      },
      "source": [
        "Model Evaluation"
      ]
    },
    {
      "cell_type": "code",
      "execution_count": 5,
      "metadata": {
        "colab": {
          "base_uri": "https://localhost:8080/",
          "height": 1000
        },
        "id": "UmMY5c9dFk7I",
        "outputId": "e24cef4c-b242-4037-ad05-fc8f768cb788"
      },
      "outputs": [
        {
          "name": "stdout",
          "output_type": "stream",
          "text": [
            "\u001b[1m16/16\u001b[0m \u001b[32m━━━━━━━━━━━━━━━━━━━━\u001b[0m\u001b[37m\u001b[0m \u001b[1m1s\u001b[0m 44ms/step\n",
            "\n",
            "Classification Report:\n",
            "               precision    recall  f1-score   support\n",
            "\n",
            "   cardboard       0.42      0.60      0.50        81\n",
            "       glass       0.35      0.18      0.24       100\n",
            "       metal       0.24      0.07      0.11        82\n",
            "       paper       0.38      0.96      0.54       119\n",
            "     plastic       0.71      0.05      0.10        97\n",
            "       trash       0.00      0.00      0.00        27\n",
            "\n",
            "    accuracy                           0.38       506\n",
            "   macro avg       0.35      0.31      0.25       506\n",
            "weighted avg       0.40      0.38      0.29       506\n",
            "\n"
          ]
        },
        {
          "data": {
            "image/png": "[encoded data removed]",
            "text/plain": [
              "<Figure size 1000x800 with 2 Axes>"
            ]
          },
          "metadata": {},
          "output_type": "display_data"
        }
      ],
      "source": [
        "from sklearn.metrics import classification_report, confusion_matrix\n",
        "import seaborn as sns\n",
        "import matplotlib.pyplot as plt\n",
        "import numpy as np\n",
        "\n",
        "y_true = test_set['label'].tolist()\n",
        "y_pred = model.predict(test_generator)\n",
        "\n",
        "y_pred_labels = np.argmax(y_pred, axis=1)\n",
        "class_labels = list(train_generator_aug.class_indices.keys())\n",
        "y_true_labels = [class_labels.index(label) for label in y_true]\n",
        "\n",
        "report = classification_report(y_true_labels, y_pred_labels, target_names=class_labels)\n",
        "print(\"\\nClassification Report:\\n\", report)\n",
        "\n",
        "cm = confusion_matrix(y_true_labels, y_pred_labels)\n",
        "\n",
        "plt.figure(figsize=(10, 8))\n",
        "sns.heatmap(cm, annot=True, fmt='d', cmap='Blues', xticklabels=class_labels, yticklabels=class_labels)\n",
        "plt.xlabel(\"Predicted Label\")\n",
        "plt.ylabel(\"True Label\")\n",
        "plt.title(\"Confusion Matrix\")\n",
        "plt.show()"
      ]
    }
  ],
  "metadata": {
    "colab": {
      "authorship_tag": "ABX9TyOBghIX6oZ4YIzZC8NxpydL",
      "provenance": []
    },
    "kernelspec": {
      "display_name": ".venv",
      "language": "python",
      "name": "python3"
    },
    "language_info": {
      "codemirror_mode": {
        "name": "ipython",
        "version": 3
      },
      "file_extension": ".py",
      "mimetype": "text/x-python",
      "name": "python",
      "nbconvert_exporter": "python",
      "pygments_lexer": "ipython3",
      "version": "3.10.8"
    }
  },
  "nbformat": 4,
  "nbformat_minor": 0
}
