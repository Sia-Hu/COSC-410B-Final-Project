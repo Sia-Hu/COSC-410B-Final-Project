{
  "cells": [
    {
      "cell_type": "markdown",
      "metadata": {
        "id": "EWK9H5WND4wq"
      },
      "source": [
        "# Data description and preprocessing"
      ]
    },
    {
      "cell_type": "markdown",
      "metadata": {
        "id": "yoITRzxVD8IY"
      },
      "source": [
        "1, Load dataset"
      ]
    },
    {
      "cell_type": "code",
      "execution_count": 1,
      "metadata": {
        "id": "SuWZjeolBdY4"
      },
      "outputs": [],
      "source": [
        "import os\n",
        "import pandas as pd\n",
        "dataset_path = '/Users/huxiyan/Desktop/H/25Spring/COSC410/TrashType_Image_Dataset'\n",
        "garbage_types = [d for d in os.listdir(dataset_path) if os.path.isdir(os.path.join(dataset_path, d))]\n",
        "\n",
        "dat = []\n",
        "for garbage_type in garbage_types:\n",
        "    folder_path = os.path.join(dataset_path, garbage_type)\n",
        "    for file in os.listdir(folder_path):\n",
        "        dat.append((os.path.join(dataset_path, garbage_type, file), garbage_type))\n",
        "\n",
        "df = pd.DataFrame(dat, columns=['filepath', 'label'])"
      ]
    },
    {
      "cell_type": "markdown",
      "metadata": {
        "id": "FNeLnUq-Ell6"
      },
      "source": [
        "2. Split"
      ]
    },
    {
      "cell_type": "code",
      "execution_count": 2,
      "metadata": {
        "colab": {
          "base_uri": "https://localhost:8080/"
        },
        "id": "ZEw6fzrsEirp",
        "outputId": "347f517a-9fe9-499f-9a5f-06b124da9b23"
      },
      "outputs": [
        {
          "name": "stdout",
          "output_type": "stream",
          "text": [
            "Number of images in the data set: 2527\n",
            "Number of images in the training set: 2021\n",
            "Number of images in the test set: 506\n"
          ]
        }
      ],
      "source": [
        "from sklearn.model_selection import train_test_split\n",
        "\n",
        "train_set, test_set = train_test_split(df, test_size=0.2, random_state=42, stratify=df['label'])\n",
        "\n",
        "print(f\"Number of images in the data set: {len(df)}\")\n",
        "print(f\"Number of images in the training set: {len(train_set)}\")\n",
        "print(f\"Number of images in the test set: {len(test_set)}\")"
      ]
    },
    {
      "cell_type": "markdown",
      "metadata": {
        "id": "PmhvhLFWExwJ"
      },
      "source": [
        "3. With Augmentation"
      ]
    },
    {
      "cell_type": "code",
      "execution_count": 3,
      "metadata": {
        "colab": {
          "base_uri": "https://localhost:8080/"
        },
        "id": "rEo1TV-kE6je",
        "outputId": "f9ac6215-835f-4405-8787-e92faad5bb20"
      },
      "outputs": [
        {
          "name": "stdout",
          "output_type": "stream",
          "text": [
            "Found 2021 validated image filenames belonging to 6 classes.\n",
            "Found 506 validated image filenames belonging to 6 classes.\n"
          ]
        }
      ],
      "source": [
        "from tensorflow.keras.preprocessing.image import ImageDataGenerator\n",
        "\n",
        "img_size = (128, 128)\n",
        "batch_size = 32\n",
        "\n",
        "datagen = ImageDataGenerator()\n",
        "\n",
        "# Slight Augmentation for training\n",
        "train_datagen = ImageDataGenerator(\n",
        "    rescale=1./255,\n",
        "    rotation_range=45,\n",
        "    width_shift_range=0.15,\n",
        "    height_shift_range=0.15,\n",
        "    zoom_range=0.15,\n",
        "    horizontal_flip=True,\n",
        "    vertical_flip=True,\n",
        "    shear_range=0.05,\n",
        "    brightness_range=[0.9, 1.1],\n",
        "    channel_shift_range=10,\n",
        "    fill_mode='nearest'\n",
        ")\n",
        "\n",
        "train_generator_aug = train_datagen.flow_from_dataframe(\n",
        "    train_set,\n",
        "    x_col='filepath',\n",
        "    y_col='label',\n",
        "    target_size=img_size,\n",
        "    batch_size=batch_size,\n",
        "    class_mode='categorical'\n",
        ")\n",
        "\n",
        "test_generator = datagen.flow_from_dataframe(\n",
        "    test_set,\n",
        "    x_col='filepath',\n",
        "    y_col='label',\n",
        "    target_size=img_size,\n",
        "    batch_size=batch_size,\n",
        "    class_mode='categorical',\n",
        "    shuffle=False\n",
        ")"
      ]
    },
    {
      "cell_type": "markdown",
      "metadata": {
        "id": "OhgQw5OlFa8C"
      },
      "source": [
        "# Model Training"
      ]
    },
    {
      "cell_type": "code",
      "execution_count": 4,
      "metadata": {
        "colab": {
          "base_uri": "https://localhost:8080/"
        },
        "id": "lctUyJWjFdGp",
        "outputId": "0f495048-d8f4-44f5-f3f6-4199f36a2c0e"
      },
      "outputs": [
        {
          "name": "stdout",
          "output_type": "stream",
          "text": [
            "Epoch 1/30\n"
          ]
        },
        {
          "name": "stderr",
          "output_type": "stream",
          "text": [
            "/Users/huxiyan/Desktop/H/25Spring/COSC410/.venv/lib/python3.10/site-packages/keras/src/layers/convolutional/base_conv.py:107: UserWarning: Do not pass an `input_shape`/`input_dim` argument to a layer. When using Sequential models, prefer using an `Input(shape)` object as the first layer in the model instead.\n",
            "  super().__init__(activity_regularizer=activity_regularizer, **kwargs)\n",
            "/Users/huxiyan/Desktop/H/25Spring/COSC410/.venv/lib/python3.10/site-packages/keras/src/trainers/data_adapters/py_dataset_adapter.py:121: UserWarning: Your `PyDataset` class should call `super().__init__(**kwargs)` in its constructor. `**kwargs` can include `workers`, `use_multiprocessing`, `max_queue_size`. Do not pass these arguments to `fit()`, as they will be ignored.\n",
            "  self._warn_if_super_not_called()\n"
          ]
        },
        {
          "name": "stdout",
          "output_type": "stream",
          "text": [
            "\u001b[1m64/64\u001b[0m \u001b[32m━━━━━━━━━━━━━━━━━━━━\u001b[0m\u001b[37m\u001b[0m \u001b[1m9s\u001b[0m 130ms/step - accuracy: 0.2181 - loss: 1.8450 - val_accuracy: 0.2826 - val_loss: 110.8659\n",
            "Epoch 2/30\n",
            "\u001b[1m64/64\u001b[0m \u001b[32m━━━━━━━━━━━━━━━━━━━━\u001b[0m\u001b[37m\u001b[0m \u001b[1m9s\u001b[0m 133ms/step - accuracy: 0.3107 - loss: 1.5642 - val_accuracy: 0.4012 - val_loss: 170.5515\n",
            "Epoch 3/30\n",
            "\u001b[1m64/64\u001b[0m \u001b[32m━━━━━━━━━━━━━━━━━━━━\u001b[0m\u001b[37m\u001b[0m \u001b[1m9s\u001b[0m 135ms/step - accuracy: 0.4154 - loss: 1.4381 - val_accuracy: 0.3617 - val_loss: 133.1105\n",
            "Epoch 4/30\n",
            "\u001b[1m64/64\u001b[0m \u001b[32m━━━━━━━━━━━━━━━━━━━━\u001b[0m\u001b[37m\u001b[0m \u001b[1m9s\u001b[0m 136ms/step - accuracy: 0.4027 - loss: 1.4308 - val_accuracy: 0.3399 - val_loss: 194.9269\n",
            "Epoch 5/30\n",
            "\u001b[1m64/64\u001b[0m \u001b[32m━━━━━━━━━━━━━━━━━━━━\u001b[0m\u001b[37m\u001b[0m \u001b[1m9s\u001b[0m 143ms/step - accuracy: 0.4448 - loss: 1.3670 - val_accuracy: 0.3300 - val_loss: 161.1140\n",
            "Epoch 6/30\n",
            "\u001b[1m64/64\u001b[0m \u001b[32m━━━━━━━━━━━━━━━━━━━━\u001b[0m\u001b[37m\u001b[0m \u001b[1m9s\u001b[0m 139ms/step - accuracy: 0.4420 - loss: 1.3705 - val_accuracy: 0.3834 - val_loss: 149.3015\n",
            "Epoch 7/30\n",
            "\u001b[1m64/64\u001b[0m \u001b[32m━━━━━━━━━━━━━━━━━━━━\u001b[0m\u001b[37m\u001b[0m \u001b[1m9s\u001b[0m 147ms/step - accuracy: 0.4753 - loss: 1.3082 - val_accuracy: 0.3913 - val_loss: 135.0244\n",
            "Epoch 8/30\n",
            "\u001b[1m64/64\u001b[0m \u001b[32m━━━━━━━━━━━━━━━━━━━━\u001b[0m\u001b[37m\u001b[0m \u001b[1m9s\u001b[0m 146ms/step - accuracy: 0.4841 - loss: 1.3044 - val_accuracy: 0.3379 - val_loss: 193.9642\n",
            "Epoch 9/30\n",
            "\u001b[1m64/64\u001b[0m \u001b[32m━━━━━━━━━━━━━━━━━━━━\u001b[0m\u001b[37m\u001b[0m \u001b[1m10s\u001b[0m 151ms/step - accuracy: 0.4801 - loss: 1.3067 - val_accuracy: 0.3992 - val_loss: 184.3477\n",
            "Epoch 10/30\n",
            "\u001b[1m64/64\u001b[0m \u001b[32m━━━━━━━━━━━━━━━━━━━━\u001b[0m\u001b[37m\u001b[0m \u001b[1m10s\u001b[0m 154ms/step - accuracy: 0.5307 - loss: 1.2141 - val_accuracy: 0.3893 - val_loss: 136.6748\n",
            "Epoch 11/30\n",
            "\u001b[1m64/64\u001b[0m \u001b[32m━━━━━━━━━━━━━━━━━━━━\u001b[0m\u001b[37m\u001b[0m \u001b[1m10s\u001b[0m 151ms/step - accuracy: 0.5199 - loss: 1.2116 - val_accuracy: 0.3715 - val_loss: 216.4050\n",
            "Epoch 12/30\n",
            "\u001b[1m64/64\u001b[0m \u001b[32m━━━━━━━━━━━━━━━━━━━━\u001b[0m\u001b[37m\u001b[0m \u001b[1m10s\u001b[0m 148ms/step - accuracy: 0.5459 - loss: 1.1877 - val_accuracy: 0.3794 - val_loss: 261.2754\n",
            "Epoch 13/30\n",
            "\u001b[1m64/64\u001b[0m \u001b[32m━━━━━━━━━━━━━━━━━━━━\u001b[0m\u001b[37m\u001b[0m \u001b[1m11s\u001b[0m 166ms/step - accuracy: 0.5774 - loss: 1.1431 - val_accuracy: 0.3241 - val_loss: 366.3540\n",
            "Epoch 14/30\n",
            "\u001b[1m64/64\u001b[0m \u001b[32m━━━━━━━━━━━━━━━━━━━━\u001b[0m\u001b[37m\u001b[0m \u001b[1m10s\u001b[0m 154ms/step - accuracy: 0.5431 - loss: 1.1919 - val_accuracy: 0.3755 - val_loss: 228.7772\n",
            "Epoch 15/30\n",
            "\u001b[1m64/64\u001b[0m \u001b[32m━━━━━━━━━━━━━━━━━━━━\u001b[0m\u001b[37m\u001b[0m \u001b[1m10s\u001b[0m 151ms/step - accuracy: 0.5585 - loss: 1.0925 - val_accuracy: 0.3814 - val_loss: 330.6628\n",
            "Epoch 16/30\n",
            "\u001b[1m64/64\u001b[0m \u001b[32m━━━━━━━━━━━━━━━━━━━━\u001b[0m\u001b[37m\u001b[0m \u001b[1m10s\u001b[0m 156ms/step - accuracy: 0.5668 - loss: 1.1373 - val_accuracy: 0.3557 - val_loss: 245.8116\n",
            "Epoch 17/30\n",
            "\u001b[1m64/64\u001b[0m \u001b[32m━━━━━━━━━━━━━━━━━━━━\u001b[0m\u001b[37m\u001b[0m \u001b[1m10s\u001b[0m 156ms/step - accuracy: 0.5773 - loss: 1.0922 - val_accuracy: 0.3518 - val_loss: 254.8364\n",
            "Epoch 18/30\n",
            "\u001b[1m64/64\u001b[0m \u001b[32m━━━━━━━━━━━━━━━━━━━━\u001b[0m\u001b[37m\u001b[0m \u001b[1m10s\u001b[0m 160ms/step - accuracy: 0.6120 - loss: 1.0717 - val_accuracy: 0.3893 - val_loss: 184.0273\n",
            "Epoch 19/30\n",
            "\u001b[1m64/64\u001b[0m \u001b[32m━━━━━━━━━━━━━━━━━━━━\u001b[0m\u001b[37m\u001b[0m \u001b[1m10s\u001b[0m 161ms/step - accuracy: 0.5606 - loss: 1.1036 - val_accuracy: 0.3518 - val_loss: 275.1214\n",
            "Epoch 20/30\n",
            "\u001b[1m64/64\u001b[0m \u001b[32m━━━━━━━━━━━━━━━━━━━━\u001b[0m\u001b[37m\u001b[0m \u001b[1m10s\u001b[0m 163ms/step - accuracy: 0.5929 - loss: 1.0427 - val_accuracy: 0.4269 - val_loss: 251.5968\n",
            "Epoch 21/30\n",
            "\u001b[1m64/64\u001b[0m \u001b[32m━━━━━━━━━━━━━━━━━━━━\u001b[0m\u001b[37m\u001b[0m \u001b[1m10s\u001b[0m 157ms/step - accuracy: 0.6167 - loss: 0.9887 - val_accuracy: 0.4032 - val_loss: 295.2527\n",
            "Epoch 22/30\n",
            "\u001b[1m64/64\u001b[0m \u001b[32m━━━━━━━━━━━━━━━━━━━━\u001b[0m\u001b[37m\u001b[0m \u001b[1m10s\u001b[0m 157ms/step - accuracy: 0.6399 - loss: 0.9756 - val_accuracy: 0.4032 - val_loss: 255.7658\n",
            "Epoch 23/30\n",
            "\u001b[1m64/64\u001b[0m \u001b[32m━━━━━━━━━━━━━━━━━━━━\u001b[0m\u001b[37m\u001b[0m \u001b[1m10s\u001b[0m 159ms/step - accuracy: 0.6117 - loss: 1.0396 - val_accuracy: 0.3933 - val_loss: 412.3489\n",
            "Epoch 24/30\n",
            "\u001b[1m64/64\u001b[0m \u001b[32m━━━━━━━━━━━━━━━━━━━━\u001b[0m\u001b[37m\u001b[0m \u001b[1m10s\u001b[0m 160ms/step - accuracy: 0.6356 - loss: 0.9668 - val_accuracy: 0.4802 - val_loss: 192.9477\n",
            "Epoch 25/30\n",
            "\u001b[1m64/64\u001b[0m \u001b[32m━━━━━━━━━━━━━━━━━━━━\u001b[0m\u001b[37m\u001b[0m \u001b[1m10s\u001b[0m 155ms/step - accuracy: 0.6328 - loss: 0.9773 - val_accuracy: 0.3696 - val_loss: 384.1034\n",
            "Epoch 26/30\n",
            "\u001b[1m64/64\u001b[0m \u001b[32m━━━━━━━━━━━━━━━━━━━━\u001b[0m\u001b[37m\u001b[0m \u001b[1m10s\u001b[0m 162ms/step - accuracy: 0.6265 - loss: 0.9896 - val_accuracy: 0.3043 - val_loss: 441.3494\n",
            "Epoch 27/30\n",
            "\u001b[1m64/64\u001b[0m \u001b[32m━━━━━━━━━━━━━━━━━━━━\u001b[0m\u001b[37m\u001b[0m \u001b[1m10s\u001b[0m 160ms/step - accuracy: 0.6048 - loss: 1.0252 - val_accuracy: 0.2826 - val_loss: 348.1925\n",
            "Epoch 28/30\n",
            "\u001b[1m64/64\u001b[0m \u001b[32m━━━━━━━━━━━━━━━━━━━━\u001b[0m\u001b[37m\u001b[0m \u001b[1m10s\u001b[0m 162ms/step - accuracy: 0.6247 - loss: 1.0131 - val_accuracy: 0.4427 - val_loss: 259.5054\n",
            "Epoch 29/30\n",
            "\u001b[1m64/64\u001b[0m \u001b[32m━━━━━━━━━━━━━━━━━━━━\u001b[0m\u001b[37m\u001b[0m \u001b[1m11s\u001b[0m 164ms/step - accuracy: 0.6494 - loss: 0.9137 - val_accuracy: 0.4150 - val_loss: 267.1585\n",
            "Epoch 30/30\n",
            "\u001b[1m64/64\u001b[0m \u001b[32m━━━━━━━━━━━━━━━━━━━━\u001b[0m\u001b[37m\u001b[0m \u001b[1m11s\u001b[0m 165ms/step - accuracy: 0.6595 - loss: 0.9209 - val_accuracy: 0.4506 - val_loss: 360.4829\n"
          ]
        }
      ],
      "source": [
        "from tensorflow import keras\n",
        "from tensorflow.keras import layers\n",
        "\n",
        "model = keras.Sequential([\n",
        "    layers.Conv2D(32, (3, 3), activation='relu', input_shape=(128, 128, 3)),\n",
        "    layers.MaxPooling2D((2, 2)),\n",
        "\n",
        "    layers.Conv2D(64, (3, 3), activation='relu'),\n",
        "    layers.MaxPooling2D((2, 2)),\n",
        "\n",
        "    layers.Conv2D(128, (3, 3), activation='relu'),\n",
        "    layers.MaxPooling2D((2, 2)),\n",
        "\n",
        "    layers.Flatten(),\n",
        "    layers.Dense(128, activation='relu'),\n",
        "    layers.Dropout(0.5),\n",
        "    layers.Dense(len(garbage_types), activation='softmax')\n",
        "])\n",
        "\n",
        "model.compile(optimizer='adam',\n",
        "              loss='categorical_crossentropy',\n",
        "              metrics=['accuracy'])\n",
        "\n",
        "history = model.fit(train_generator_aug, epochs=30, validation_data=test_generator)"
      ]
    },
    {
      "cell_type": "markdown",
      "metadata": {
        "id": "VBJMAvPSFjrX"
      },
      "source": [
        "Model Evaluation"
      ]
    },
    {
      "cell_type": "code",
      "execution_count": 5,
      "metadata": {
        "colab": {
          "base_uri": "https://localhost:8080/",
          "height": 1000
        },
        "id": "UmMY5c9dFk7I",
        "outputId": "e24cef4c-b242-4037-ad05-fc8f768cb788"
      },
      "outputs": [
        {
          "name": "stdout",
          "output_type": "stream",
          "text": [
            "\u001b[1m16/16\u001b[0m \u001b[32m━━━━━━━━━━━━━━━━━━━━\u001b[0m\u001b[37m\u001b[0m \u001b[1m1s\u001b[0m 37ms/step\n",
            "\n",
            "Classification Report:\n",
            "               precision    recall  f1-score   support\n",
            "\n",
            "   cardboard       0.51      0.67      0.58        81\n",
            "       glass       0.50      0.05      0.09       100\n",
            "       metal       0.46      0.22      0.30        82\n",
            "       paper       0.37      0.95      0.53       119\n",
            "     plastic       0.83      0.39      0.53        97\n",
            "       trash       0.00      0.00      0.00        27\n",
            "\n",
            "    accuracy                           0.45       506\n",
            "   macro avg       0.44      0.38      0.34       506\n",
            "weighted avg       0.50      0.45      0.39       506\n",
            "\n"
          ]
        },
        {
          "name": "stderr",
          "output_type": "stream",
          "text": [
            "/Users/huxiyan/Desktop/H/25Spring/COSC410/.venv/lib/python3.10/site-packages/sklearn/metrics/_classification.py:1565: UndefinedMetricWarning: Precision is ill-defined and being set to 0.0 in labels with no predicted samples. Use `zero_division` parameter to control this behavior.\n",
            "  _warn_prf(average, modifier, f\"{metric.capitalize()} is\", len(result))\n",
            "/Users/huxiyan/Desktop/H/25Spring/COSC410/.venv/lib/python3.10/site-packages/sklearn/metrics/_classification.py:1565: UndefinedMetricWarning: Precision is ill-defined and being set to 0.0 in labels with no predicted samples. Use `zero_division` parameter to control this behavior.\n",
            "  _warn_prf(average, modifier, f\"{metric.capitalize()} is\", len(result))\n",
            "/Users/huxiyan/Desktop/H/25Spring/COSC410/.venv/lib/python3.10/site-packages/sklearn/metrics/_classification.py:1565: UndefinedMetricWarning: Precision is ill-defined and being set to 0.0 in labels with no predicted samples. Use `zero_division` parameter to control this behavior.\n",
            "  _warn_prf(average, modifier, f\"{metric.capitalize()} is\", len(result))\n"
          ]
        },
        {
          "data": {
            "image/png": "[encoded data removed]",
            "text/plain": [
              "<Figure size 1000x800 with 2 Axes>"
            ]
          },
          "metadata": {},
          "output_type": "display_data"
        }
      ],
      "source": [
        "from sklearn.metrics import classification_report, confusion_matrix\n",
        "import seaborn as sns\n",
        "import matplotlib.pyplot as plt\n",
        "import numpy as np\n",
        "\n",
        "y_true = test_set['label'].tolist()\n",
        "y_pred = model.predict(test_generator)\n",
        "\n",
        "y_pred_labels = np.argmax(y_pred, axis=1)\n",
        "class_labels = list(train_generator_aug.class_indices.keys())\n",
        "y_true_labels = [class_labels.index(label) for label in y_true]\n",
        "\n",
        "report = classification_report(y_true_labels, y_pred_labels, target_names=class_labels)\n",
        "print(\"\\nClassification Report:\\n\", report)\n",
        "\n",
        "cm = confusion_matrix(y_true_labels, y_pred_labels)\n",
        "\n",
        "plt.figure(figsize=(10, 8))\n",
        "sns.heatmap(cm, annot=True, fmt='d', cmap='Blues', xticklabels=class_labels, yticklabels=class_labels)\n",
        "plt.xlabel(\"Predicted Label\")\n",
        "plt.ylabel(\"True Label\")\n",
        "plt.title(\"Confusion Matrix\")\n",
        "plt.show()"
      ]
    }
  ],
  "metadata": {
    "colab": {
      "authorship_tag": "ABX9TyOBghIX6oZ4YIzZC8NxpydL",
      "provenance": []
    },
    "kernelspec": {
      "display_name": ".venv",
      "language": "python",
      "name": "python3"
    },
    "language_info": {
      "codemirror_mode": {
        "name": "ipython",
        "version": 3
      },
      "file_extension": ".py",
      "mimetype": "text/x-python",
      "name": "python",
      "nbconvert_exporter": "python",
      "pygments_lexer": "ipython3",
      "version": "3.10.8"
    }
  },
  "nbformat": 4,
  "nbformat_minor": 0
}
