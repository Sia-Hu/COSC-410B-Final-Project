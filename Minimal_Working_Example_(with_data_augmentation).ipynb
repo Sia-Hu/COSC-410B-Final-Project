{
  "nbformat": 4,
  "nbformat_minor": 0,
  "metadata": {
    "colab": {
      "provenance": [],
      "authorship_tag": "ABX9TyMLhBtpdI8Rc2CmVL27JlVP"
    },
    "kernelspec": {
      "name": "python3",
      "display_name": "Python 3"
    },
    "language_info": {
      "name": "python"
    }
  },
  "cells": [
    {
      "cell_type": "markdown",
      "source": [
        "# Data description and preprocessing"
      ],
      "metadata": {
        "id": "EWK9H5WND4wq"
      }
    },
    {
      "cell_type": "markdown",
      "source": [
        "1, Load dataset"
      ],
      "metadata": {
        "id": "yoITRzxVD8IY"
      }
    },
    {
      "cell_type": "code",
      "execution_count": 5,
      "metadata": {
        "id": "SuWZjeolBdY4"
      },
      "outputs": [],
      "source": [
        "import os\n",
        "import pandas as pd\n",
        "dataset_path = '/content/trash_dataset/TrashType_Image_Dataset'\n",
        "garbage_types = [d for d in os.listdir(dataset_path) if os.path.isdir(os.path.join(dataset_path, d))]\n",
        "\n",
        "dat = []\n",
        "for garbage_type in garbage_types:\n",
        "    folder_path = os.path.join(dataset_path, garbage_type)\n",
        "    for file in os.listdir(folder_path):\n",
        "        dat.append((os.path.join(dataset_path, garbage_type, file), garbage_type))\n",
        "\n",
        "df = pd.DataFrame(dat, columns=['filepath', 'label'])"
      ]
    },
    {
      "cell_type": "markdown",
      "source": [
        "2. Split"
      ],
      "metadata": {
        "id": "FNeLnUq-Ell6"
      }
    },
    {
      "cell_type": "code",
      "source": [
        "from sklearn.model_selection import train_test_split\n",
        "\n",
        "train_set, test_set = train_test_split(df, test_size=0.2, random_state=42, stratify=df['label'])\n",
        "\n",
        "print(f\"Number of images in the data set: {len(df)}\")\n",
        "print(f\"Number of images in the training set: {len(train_set)}\")\n",
        "print(f\"Number of images in the test set: {len(test_set)}\")"
      ],
      "metadata": {
        "colab": {
          "base_uri": "https://localhost:8080/"
        },
        "id": "ZEw6fzrsEirp",
        "outputId": "347f517a-9fe9-499f-9a5f-06b124da9b23"
      },
      "execution_count": 6,
      "outputs": [
        {
          "output_type": "stream",
          "name": "stdout",
          "text": [
            "Number of images in the data set: 2527\n",
            "Number of images in the training set: 2021\n",
            "Number of images in the test set: 506\n"
          ]
        }
      ]
    },
    {
      "cell_type": "markdown",
      "source": [
        "3. With Augmentation"
      ],
      "metadata": {
        "id": "PmhvhLFWExwJ"
      }
    },
    {
      "cell_type": "code",
      "source": [
        "# Slight Augmentation settings for training\n",
        "train_datagen = ImageDataGenerator(\n",
        "    rescale=1./255,                     # Normalize pixel values to [0,1]\n",
        "    rotation_range=45,                  # Randomly rotate the images by up to 45 degrees\n",
        "    width_shift_range=0.15,             # Randomly shift images horizontally by up to 15% of the width\n",
        "    height_shift_range=0.15,            # Randomly shift images vertically by up to 15% of the height\n",
        "    zoom_range=0.15,                    # Randomly zoom in or out by up to 15%\n",
        "    horizontal_flip=True,               # Randomly flip images horizontally\n",
        "    vertical_flip=True,                 # Randomly flip images vertically\n",
        "    shear_range=0.05,                   # Apply slight shear transformations\n",
        "    brightness_range=[0.9, 1.1],        # Vary brightness between 90% to 110% of original\n",
        "    channel_shift_range=10,             # Randomly shift channels (can change colors of images slightly but less aggressively)\n",
        "    fill_mode='nearest'                 # Fill in missing pixels using the nearest filled value\n",
        ")\n",
        "\n",
        "# Only rescaling for validation\n",
        "val_datagen = ImageDataGenerator(rescale=1./255)"
      ],
      "metadata": {
        "id": "IuZeIqHKE2fk"
      },
      "execution_count": null,
      "outputs": []
    },
    {
      "cell_type": "code",
      "source": [
        "from tensorflow.keras.preprocessing.image import ImageDataGenerator\n",
        "\n",
        "img_size = (128, 128)\n",
        "batch_size = 32\n",
        "\n",
        "datagen = ImageDataGenerator()\n",
        "\n",
        "# Slight Augmentation for training\n",
        "train_datagen = ImageDataGenerator(\n",
        "    rescale=1./255,\n",
        "    rotation_range=45,\n",
        "    width_shift_range=0.15,\n",
        "    height_shift_range=0.15,\n",
        "    zoom_range=0.15,\n",
        "    horizontal_flip=True,\n",
        "    vertical_flip=True,\n",
        "    shear_range=0.05,\n",
        "    brightness_range=[0.9, 1.1],\n",
        "    channel_shift_range=10,\n",
        "    fill_mode='nearest'\n",
        ")\n",
        "\n",
        "train_generator_aug = train_datagen.flow_from_dataframe(\n",
        "    train_set,\n",
        "    x_col='filepath',\n",
        "    y_col='label',\n",
        "    target_size=img_size,\n",
        "    batch_size=batch_size,\n",
        "    class_mode='categorical'\n",
        ")\n",
        "\n",
        "test_generator = datagen.flow_from_dataframe(\n",
        "    test_set,\n",
        "    x_col='filepath',\n",
        "    y_col='label',\n",
        "    target_size=img_size,\n",
        "    batch_size=batch_size,\n",
        "    class_mode='categorical'\n",
        ")"
      ],
      "metadata": {
        "colab": {
          "base_uri": "https://localhost:8080/"
        },
        "id": "rEo1TV-kE6je",
        "outputId": "f9ac6215-835f-4405-8787-e92faad5bb20"
      },
      "execution_count": 9,
      "outputs": [
        {
          "output_type": "stream",
          "name": "stdout",
          "text": [
            "Found 2021 validated image filenames belonging to 6 classes.\n",
            "Found 506 validated image filenames belonging to 6 classes.\n"
          ]
        }
      ]
    },
    {
      "cell_type": "markdown",
      "source": [
        "# Model Training"
      ],
      "metadata": {
        "id": "OhgQw5OlFa8C"
      }
    },
    {
      "cell_type": "code",
      "source": [
        "from tensorflow import keras\n",
        "from tensorflow.keras import layers\n",
        "\n",
        "model = keras.Sequential([\n",
        "    layers.Conv2D(32, (3, 3), activation='relu', input_shape=(128, 128, 3)),\n",
        "    layers.MaxPooling2D((2, 2)),\n",
        "\n",
        "    layers.Conv2D(64, (3, 3), activation='relu'),\n",
        "    layers.MaxPooling2D((2, 2)),\n",
        "\n",
        "    layers.Conv2D(128, (3, 3), activation='relu'),\n",
        "    layers.MaxPooling2D((2, 2)),\n",
        "\n",
        "    layers.Flatten(),\n",
        "    layers.Dense(128, activation='relu'),\n",
        "    layers.Dropout(0.5),\n",
        "    layers.Dense(len(garbage_types), activation='softmax')\n",
        "])\n",
        "\n",
        "model.compile(optimizer='adam',\n",
        "              loss='categorical_crossentropy',\n",
        "              metrics=['accuracy'])\n",
        "\n",
        "history = model.fit(train_generator_aug, epochs=30, validation_data=test_generator)"
      ],
      "metadata": {
        "colab": {
          "base_uri": "https://localhost:8080/"
        },
        "id": "lctUyJWjFdGp",
        "outputId": "0f495048-d8f4-44f5-f3f6-4199f36a2c0e"
      },
      "execution_count": 8,
      "outputs": [
        {
          "output_type": "stream",
          "name": "stderr",
          "text": [
            "/usr/local/lib/python3.11/dist-packages/keras/src/layers/convolutional/base_conv.py:107: UserWarning: Do not pass an `input_shape`/`input_dim` argument to a layer. When using Sequential models, prefer using an `Input(shape)` object as the first layer in the model instead.\n",
            "  super().__init__(activity_regularizer=activity_regularizer, **kwargs)\n",
            "/usr/local/lib/python3.11/dist-packages/keras/src/trainers/data_adapters/py_dataset_adapter.py:121: UserWarning: Your `PyDataset` class should call `super().__init__(**kwargs)` in its constructor. `**kwargs` can include `workers`, `use_multiprocessing`, `max_queue_size`. Do not pass these arguments to `fit()`, as they will be ignored.\n",
            "  self._warn_if_super_not_called()\n"
          ]
        },
        {
          "output_type": "stream",
          "name": "stdout",
          "text": [
            "Epoch 1/30\n",
            "\u001b[1m64/64\u001b[0m \u001b[32m━━━━━━━━━━━━━━━━━━━━\u001b[0m\u001b[37m\u001b[0m \u001b[1m93s\u001b[0m 1s/step - accuracy: 0.2507 - loss: 1.7650 - val_accuracy: 0.3933 - val_loss: 76.5388\n",
            "Epoch 2/30\n",
            "\u001b[1m64/64\u001b[0m \u001b[32m━━━━━━━━━━━━━━━━━━━━\u001b[0m\u001b[37m\u001b[0m \u001b[1m85s\u001b[0m 1s/step - accuracy: 0.3698 - loss: 1.5084 - val_accuracy: 0.4091 - val_loss: 137.5352\n",
            "Epoch 3/30\n",
            "\u001b[1m64/64\u001b[0m \u001b[32m━━━━━━━━━━━━━━━━━━━━\u001b[0m\u001b[37m\u001b[0m \u001b[1m136s\u001b[0m 1s/step - accuracy: 0.4122 - loss: 1.4764 - val_accuracy: 0.4111 - val_loss: 123.5954\n",
            "Epoch 4/30\n",
            "\u001b[1m64/64\u001b[0m \u001b[32m━━━━━━━━━━━━━━━━━━━━\u001b[0m\u001b[37m\u001b[0m \u001b[1m79s\u001b[0m 1s/step - accuracy: 0.4476 - loss: 1.3531 - val_accuracy: 0.4130 - val_loss: 185.8962\n",
            "Epoch 5/30\n",
            "\u001b[1m64/64\u001b[0m \u001b[32m━━━━━━━━━━━━━━━━━━━━\u001b[0m\u001b[37m\u001b[0m \u001b[1m78s\u001b[0m 1s/step - accuracy: 0.4756 - loss: 1.3760 - val_accuracy: 0.4012 - val_loss: 225.5956\n",
            "Epoch 6/30\n",
            "\u001b[1m64/64\u001b[0m \u001b[32m━━━━━━━━━━━━━━━━━━━━\u001b[0m\u001b[37m\u001b[0m \u001b[1m78s\u001b[0m 1s/step - accuracy: 0.4932 - loss: 1.2836 - val_accuracy: 0.4387 - val_loss: 94.7351\n",
            "Epoch 7/30\n",
            "\u001b[1m64/64\u001b[0m \u001b[32m━━━━━━━━━━━━━━━━━━━━\u001b[0m\u001b[37m\u001b[0m \u001b[1m80s\u001b[0m 1s/step - accuracy: 0.4938 - loss: 1.2920 - val_accuracy: 0.4407 - val_loss: 141.1428\n",
            "Epoch 8/30\n",
            "\u001b[1m64/64\u001b[0m \u001b[32m━━━━━━━━━━━━━━━━━━━━\u001b[0m\u001b[37m\u001b[0m \u001b[1m85s\u001b[0m 1s/step - accuracy: 0.5286 - loss: 1.2309 - val_accuracy: 0.4466 - val_loss: 133.1849\n",
            "Epoch 9/30\n",
            "\u001b[1m64/64\u001b[0m \u001b[32m━━━━━━━━━━━━━━━━━━━━\u001b[0m\u001b[37m\u001b[0m \u001b[1m81s\u001b[0m 1s/step - accuracy: 0.5406 - loss: 1.2304 - val_accuracy: 0.4368 - val_loss: 137.5811\n",
            "Epoch 10/30\n",
            "\u001b[1m64/64\u001b[0m \u001b[32m━━━━━━━━━━━━━━━━━━━━\u001b[0m\u001b[37m\u001b[0m \u001b[1m81s\u001b[0m 1s/step - accuracy: 0.5372 - loss: 1.1891 - val_accuracy: 0.4743 - val_loss: 113.1541\n",
            "Epoch 11/30\n",
            "\u001b[1m64/64\u001b[0m \u001b[32m━━━━━━━━━━━━━━━━━━━━\u001b[0m\u001b[37m\u001b[0m \u001b[1m80s\u001b[0m 1s/step - accuracy: 0.5036 - loss: 1.2727 - val_accuracy: 0.4427 - val_loss: 93.5220\n",
            "Epoch 12/30\n",
            "\u001b[1m64/64\u001b[0m \u001b[32m━━━━━━━━━━━━━━━━━━━━\u001b[0m\u001b[37m\u001b[0m \u001b[1m79s\u001b[0m 1s/step - accuracy: 0.5749 - loss: 1.1424 - val_accuracy: 0.4723 - val_loss: 124.6324\n",
            "Epoch 13/30\n",
            "\u001b[1m64/64\u001b[0m \u001b[32m━━━━━━━━━━━━━━━━━━━━\u001b[0m\u001b[37m\u001b[0m \u001b[1m81s\u001b[0m 1s/step - accuracy: 0.5295 - loss: 1.2022 - val_accuracy: 0.4368 - val_loss: 170.8587\n",
            "Epoch 14/30\n",
            "\u001b[1m64/64\u001b[0m \u001b[32m━━━━━━━━━━━━━━━━━━━━\u001b[0m\u001b[37m\u001b[0m \u001b[1m81s\u001b[0m 1s/step - accuracy: 0.5744 - loss: 1.1166 - val_accuracy: 0.4585 - val_loss: 144.1772\n",
            "Epoch 15/30\n",
            "\u001b[1m64/64\u001b[0m \u001b[32m━━━━━━━━━━━━━━━━━━━━\u001b[0m\u001b[37m\u001b[0m \u001b[1m83s\u001b[0m 1s/step - accuracy: 0.5605 - loss: 1.1439 - val_accuracy: 0.4091 - val_loss: 230.7471\n",
            "Epoch 16/30\n",
            "\u001b[1m64/64\u001b[0m \u001b[32m━━━━━━━━━━━━━━━━━━━━\u001b[0m\u001b[37m\u001b[0m \u001b[1m140s\u001b[0m 1s/step - accuracy: 0.5776 - loss: 1.1192 - val_accuracy: 0.4368 - val_loss: 155.8437\n",
            "Epoch 17/30\n",
            "\u001b[1m64/64\u001b[0m \u001b[32m━━━━━━━━━━━━━━━━━━━━\u001b[0m\u001b[37m\u001b[0m \u001b[1m81s\u001b[0m 1s/step - accuracy: 0.6041 - loss: 1.0612 - val_accuracy: 0.4743 - val_loss: 100.7576\n",
            "Epoch 18/30\n",
            "\u001b[1m64/64\u001b[0m \u001b[32m━━━━━━━━━━━━━━━━━━━━\u001b[0m\u001b[37m\u001b[0m \u001b[1m80s\u001b[0m 1s/step - accuracy: 0.6253 - loss: 1.0407 - val_accuracy: 0.4486 - val_loss: 206.0349\n",
            "Epoch 19/30\n",
            "\u001b[1m64/64\u001b[0m \u001b[32m━━━━━━━━━━━━━━━━━━━━\u001b[0m\u001b[37m\u001b[0m \u001b[1m80s\u001b[0m 1s/step - accuracy: 0.6243 - loss: 1.0226 - val_accuracy: 0.4328 - val_loss: 295.5181\n",
            "Epoch 20/30\n",
            "\u001b[1m64/64\u001b[0m \u001b[32m━━━━━━━━━━━━━━━━━━━━\u001b[0m\u001b[37m\u001b[0m \u001b[1m80s\u001b[0m 1s/step - accuracy: 0.6053 - loss: 1.0773 - val_accuracy: 0.4605 - val_loss: 200.2336\n",
            "Epoch 21/30\n",
            "\u001b[1m64/64\u001b[0m \u001b[32m━━━━━━━━━━━━━━━━━━━━\u001b[0m\u001b[37m\u001b[0m \u001b[1m80s\u001b[0m 1s/step - accuracy: 0.6250 - loss: 1.0232 - val_accuracy: 0.3913 - val_loss: 263.0410\n",
            "Epoch 22/30\n",
            "\u001b[1m64/64\u001b[0m \u001b[32m━━━━━━━━━━━━━━━━━━━━\u001b[0m\u001b[37m\u001b[0m \u001b[1m80s\u001b[0m 1s/step - accuracy: 0.6121 - loss: 1.0783 - val_accuracy: 0.4466 - val_loss: 154.5882\n",
            "Epoch 23/30\n",
            "\u001b[1m64/64\u001b[0m \u001b[32m━━━━━━━━━━━━━━━━━━━━\u001b[0m\u001b[37m\u001b[0m \u001b[1m79s\u001b[0m 1s/step - accuracy: 0.6315 - loss: 0.9941 - val_accuracy: 0.4644 - val_loss: 182.3533\n",
            "Epoch 24/30\n",
            "\u001b[1m64/64\u001b[0m \u001b[32m━━━━━━━━━━━━━━━━━━━━\u001b[0m\u001b[37m\u001b[0m \u001b[1m82s\u001b[0m 1s/step - accuracy: 0.6521 - loss: 0.9506 - val_accuracy: 0.4190 - val_loss: 495.4434\n",
            "Epoch 25/30\n",
            "\u001b[1m64/64\u001b[0m \u001b[32m━━━━━━━━━━━━━━━━━━━━\u001b[0m\u001b[37m\u001b[0m \u001b[1m80s\u001b[0m 1s/step - accuracy: 0.6213 - loss: 1.0245 - val_accuracy: 0.4545 - val_loss: 312.4703\n",
            "Epoch 26/30\n",
            "\u001b[1m64/64\u001b[0m \u001b[32m━━━━━━━━━━━━━━━━━━━━\u001b[0m\u001b[37m\u001b[0m \u001b[1m82s\u001b[0m 1s/step - accuracy: 0.6699 - loss: 0.9163 - val_accuracy: 0.4960 - val_loss: 199.5248\n",
            "Epoch 27/30\n",
            "\u001b[1m64/64\u001b[0m \u001b[32m━━━━━━━━━━━━━━━━━━━━\u001b[0m\u001b[37m\u001b[0m \u001b[1m79s\u001b[0m 1s/step - accuracy: 0.6297 - loss: 0.9906 - val_accuracy: 0.5000 - val_loss: 233.3500\n",
            "Epoch 28/30\n",
            "\u001b[1m64/64\u001b[0m \u001b[32m━━━━━━━━━━━━━━━━━━━━\u001b[0m\u001b[37m\u001b[0m \u001b[1m85s\u001b[0m 1s/step - accuracy: 0.6618 - loss: 0.9113 - val_accuracy: 0.4921 - val_loss: 272.5256\n",
            "Epoch 29/30\n",
            "\u001b[1m64/64\u001b[0m \u001b[32m━━━━━━━━━━━━━━━━━━━━\u001b[0m\u001b[37m\u001b[0m \u001b[1m86s\u001b[0m 1s/step - accuracy: 0.6489 - loss: 0.9429 - val_accuracy: 0.4328 - val_loss: 218.5904\n",
            "Epoch 30/30\n",
            "\u001b[1m64/64\u001b[0m \u001b[32m━━━━━━━━━━━━━━━━━━━━\u001b[0m\u001b[37m\u001b[0m \u001b[1m85s\u001b[0m 1s/step - accuracy: 0.6824 - loss: 0.9217 - val_accuracy: 0.4071 - val_loss: 333.2233\n"
          ]
        }
      ]
    },
    {
      "cell_type": "markdown",
      "source": [
        "Model Evaluation"
      ],
      "metadata": {
        "id": "VBJMAvPSFjrX"
      }
    },
    {
      "cell_type": "code",
      "source": [
        "from sklearn.metrics import classification_report, confusion_matrix\n",
        "import seaborn as sns\n",
        "import matplotlib.pyplot as plt\n",
        "import numpy as np\n",
        "\n",
        "y_true = test_set['label'].tolist()\n",
        "y_pred = model.predict(test_generator)\n",
        "\n",
        "y_pred_labels = np.argmax(y_pred, axis=1)\n",
        "class_labels = list(train_generator_aug.class_indices.keys())\n",
        "y_true_labels = [class_labels.index(label) for label in y_true]\n",
        "\n",
        "report = classification_report(y_true_labels, y_pred_labels, target_names=class_labels)\n",
        "print(\"\\nClassification Report:\\n\", report)\n",
        "\n",
        "cm = confusion_matrix(y_true_labels, y_pred_labels)\n",
        "\n",
        "plt.figure(figsize=(10, 8))\n",
        "sns.heatmap(cm, annot=True, fmt='d', cmap='Blues', xticklabels=class_labels, yticklabels=class_labels)\n",
        "plt.xlabel(\"Predicted Label\")\n",
        "plt.ylabel(\"True Label\")\n",
        "plt.title(\"Confusion Matrix\")\n",
        "plt.show()"
      ],
      "metadata": {
        "colab": {
          "base_uri": "https://localhost:8080/",
          "height": 1000
        },
        "id": "UmMY5c9dFk7I",
        "outputId": "e24cef4c-b242-4037-ad05-fc8f768cb788"
      },
      "execution_count": 10,
      "outputs": [
        {
          "output_type": "stream",
          "name": "stderr",
          "text": [
            "/usr/local/lib/python3.11/dist-packages/keras/src/trainers/data_adapters/py_dataset_adapter.py:121: UserWarning: Your `PyDataset` class should call `super().__init__(**kwargs)` in its constructor. `**kwargs` can include `workers`, `use_multiprocessing`, `max_queue_size`. Do not pass these arguments to `fit()`, as they will be ignored.\n",
            "  self._warn_if_super_not_called()\n"
          ]
        },
        {
          "output_type": "stream",
          "name": "stdout",
          "text": [
            "\u001b[1m16/16\u001b[0m \u001b[32m━━━━━━━━━━━━━━━━━━━━\u001b[0m\u001b[37m\u001b[0m \u001b[1m5s\u001b[0m 273ms/step\n",
            "\n",
            "Classification Report:\n",
            "               precision    recall  f1-score   support\n",
            "\n",
            "   cardboard       0.15      0.32      0.20        81\n",
            "       glass       0.15      0.03      0.05       100\n",
            "       metal       0.05      0.01      0.02        82\n",
            "       paper       0.22      0.49      0.30       119\n",
            "     plastic       0.07      0.01      0.02        97\n",
            "       trash       0.00      0.00      0.00        27\n",
            "\n",
            "    accuracy                           0.18       506\n",
            "   macro avg       0.11      0.14      0.10       506\n",
            "weighted avg       0.13      0.18      0.12       506\n",
            "\n"
          ]
        },
        {
          "output_type": "display_data",
          "data": {
            "text/plain": [
              "<Figure size 1000x800 with 2 Axes>"
            ],
            "image/png": "[encoded data removed]"
          },
          "metadata": {}
        }
      ]
    }
  ]
}