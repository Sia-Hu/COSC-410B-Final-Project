{
  "cells": [
    {
      "cell_type": "markdown",
      "id": "aefe3c0f-1da0-43a5-85c7-ec1202a1e8ab",
      "metadata": {
        "id": "aefe3c0f-1da0-43a5-85c7-ec1202a1e8ab"
      },
      "source": [
        "# Data description and preprocessing\n"
      ]
    },
    {
      "cell_type": "markdown",
      "source": [
        "## 1. Setup and Initialization"
      ],
      "metadata": {
        "id": "ms08zUqYuhkR"
      },
      "id": "ms08zUqYuhkR"
    },
    {
      "cell_type": "markdown",
      "source": [
        "First, we will import the librarires needed for this project:"
      ],
      "metadata": {
        "id": "AeIVYhObvqHD"
      },
      "id": "AeIVYhObvqHD"
    },
    {
      "cell_type": "code",
      "source": [
        "import warnings\n",
        "warnings.filterwarnings('ignore')\n",
        "\n",
        "import os\n",
        "import numpy as np\n",
        "import pandas as pd\n",
        "import seaborn as sns\n",
        "import matplotlib.pyplot as plt\n",
        "from matplotlib.colors import LinearSegmentedColormap\n",
        "from PIL import Image\n",
        "from sklearn.model_selection import train_test_split\n",
        "from sklearn.utils.class_weight import compute_class_weight\n",
        "from tensorflow.keras.preprocessing.image import ImageDataGenerator\n",
        "from keras.layers import Input, Activation, Add, Dense, Conv2D, GlobalAveragePooling2D, MaxPooling2D\n",
        "from keras.layers import BatchNormalization, Dropout\n",
        "from tensorflow.keras.applications import ResNet50\n",
        "from tensorflow.keras.applications.resnet50 import preprocess_input\n",
        "from tensorflow.keras.optimizers import Adam\n",
        "from keras.callbacks import ReduceLROnPlateau, EarlyStopping\n",
        "from keras.models import Model\n",
        "from keras.utils import plot_model\n",
        "from sklearn.metrics import classification_report, confusion_matrix"
      ],
      "metadata": {
        "id": "akd-5TKIurM_"
      },
      "id": "akd-5TKIurM_",
      "execution_count": 2,
      "outputs": []
    },
    {
      "cell_type": "markdown",
      "source": [
        "## 2. Dataset Analysis"
      ],
      "metadata": {
        "id": "hEBpnhdivza3"
      },
      "id": "hEBpnhdivza3"
    },
    {
      "cell_type": "markdown",
      "source": [
        "1. Download dataset from Kaggle using Kaggle API"
      ],
      "metadata": {
        "id": "_5ozt8Lh3FUg"
      },
      "id": "_5ozt8Lh3FUg"
    },
    {
      "cell_type": "code",
      "source": [
        "#Install Kaggle API\n",
        "!pip install kaggle"
      ],
      "metadata": {
        "colab": {
          "base_uri": "https://localhost:8080/"
        },
        "id": "aq3xn0VO0pn_",
        "outputId": "f08c9382-a89c-49a2-c116-03759e4da161"
      },
      "id": "aq3xn0VO0pn_",
      "execution_count": 15,
      "outputs": [
        {
          "output_type": "stream",
          "name": "stdout",
          "text": [
            "Requirement already satisfied: kaggle in /usr/local/lib/python3.11/dist-packages (1.7.4.2)\n",
            "Requirement already satisfied: bleach in /usr/local/lib/python3.11/dist-packages (from kaggle) (6.2.0)\n",
            "Requirement already satisfied: certifi>=14.05.14 in /usr/local/lib/python3.11/dist-packages (from kaggle) (2025.1.31)\n",
            "Requirement already satisfied: charset-normalizer in /usr/local/lib/python3.11/dist-packages (from kaggle) (3.4.1)\n",
            "Requirement already satisfied: idna in /usr/local/lib/python3.11/dist-packages (from kaggle) (3.10)\n",
            "Requirement already satisfied: protobuf in /usr/local/lib/python3.11/dist-packages (from kaggle) (5.29.4)\n",
            "Requirement already satisfied: python-dateutil>=2.5.3 in /usr/local/lib/python3.11/dist-packages (from kaggle) (2.8.2)\n",
            "Requirement already satisfied: python-slugify in /usr/local/lib/python3.11/dist-packages (from kaggle) (8.0.4)\n",
            "Requirement already satisfied: requests in /usr/local/lib/python3.11/dist-packages (from kaggle) (2.32.3)\n",
            "Requirement already satisfied: setuptools>=21.0.0 in /usr/local/lib/python3.11/dist-packages (from kaggle) (75.1.0)\n",
            "Requirement already satisfied: six>=1.10 in /usr/local/lib/python3.11/dist-packages (from kaggle) (1.17.0)\n",
            "Requirement already satisfied: text-unidecode in /usr/local/lib/python3.11/dist-packages (from kaggle) (1.3)\n",
            "Requirement already satisfied: tqdm in /usr/local/lib/python3.11/dist-packages (from kaggle) (4.67.1)\n",
            "Requirement already satisfied: urllib3>=1.15.1 in /usr/local/lib/python3.11/dist-packages (from kaggle) (2.3.0)\n",
            "Requirement already satisfied: webencodings in /usr/local/lib/python3.11/dist-packages (from kaggle) (0.5.1)\n"
          ]
        }
      ]
    },
    {
      "cell_type": "code",
      "source": [
        "#Set up Kaggle API key\n",
        "#For Google Colab:\n",
        "from google.colab import files\n",
        "files.upload()  # Upload the kaggle.json file\n",
        "\n",
        "!mkdir -p ~/.kaggle\n",
        "!cp kaggle.json ~/.kaggle/\n",
        "!chmod 600 ~/.kaggle/kaggle.json"
      ],
      "metadata": {
        "colab": {
          "base_uri": "https://localhost:8080/",
          "height": 39
        },
        "id": "lE2s5md61QVF",
        "outputId": "0690e4ae-f87f-4541-bc3a-16ba13031ab4"
      },
      "id": "lE2s5md61QVF",
      "execution_count": 16,
      "outputs": [
        {
          "output_type": "display_data",
          "data": {
            "text/plain": [
              "<IPython.core.display.HTML object>"
            ],
            "text/html": [
              "\n",
              "     <input type=\"file\" id=\"files-bf602166-c5f4-4224-bfdf-b44158b35ce9\" name=\"files[]\" multiple disabled\n",
              "        style=\"border:none\" />\n",
              "     <output id=\"result-bf602166-c5f4-4224-bfdf-b44158b35ce9\">\n",
              "      Upload widget is only available when the cell has been executed in the\n",
              "      current browser session. Please rerun this cell to enable.\n",
              "      </output>\n",
              "      <script>// Copyright 2017 Google LLC\n",
              "//\n",
              "// Licensed under the Apache License, Version 2.0 (the \"License\");\n",
              "// you may not use this file except in compliance with the License.\n",
              "// You may obtain a copy of the License at\n",
              "//\n",
              "//      http://www.apache.org/licenses/LICENSE-2.0\n",
              "//\n",
              "// Unless required by applicable law or agreed to in writing, software\n",
              "// distributed under the License is distributed on an \"AS IS\" BASIS,\n",
              "// WITHOUT WARRANTIES OR CONDITIONS OF ANY KIND, either express or implied.\n",
              "// See the License for the specific language governing permissions and\n",
              "// limitations under the License.\n",
              "\n",
              "/**\n",
              " * @fileoverview Helpers for google.colab Python module.\n",
              " */\n",
              "(function(scope) {\n",
              "function span(text, styleAttributes = {}) {\n",
              "  const element = document.createElement('span');\n",
              "  element.textContent = text;\n",
              "  for (const key of Object.keys(styleAttributes)) {\n",
              "    element.style[key] = styleAttributes[key];\n",
              "  }\n",
              "  return element;\n",
              "}\n",
              "\n",
              "// Max number of bytes which will be uploaded at a time.\n",
              "const MAX_PAYLOAD_SIZE = 100 * 1024;\n",
              "\n",
              "function _uploadFiles(inputId, outputId) {\n",
              "  const steps = uploadFilesStep(inputId, outputId);\n",
              "  const outputElement = document.getElementById(outputId);\n",
              "  // Cache steps on the outputElement to make it available for the next call\n",
              "  // to uploadFilesContinue from Python.\n",
              "  outputElement.steps = steps;\n",
              "\n",
              "  return _uploadFilesContinue(outputId);\n",
              "}\n",
              "\n",
              "// This is roughly an async generator (not supported in the browser yet),\n",
              "// where there are multiple asynchronous steps and the Python side is going\n",
              "// to poll for completion of each step.\n",
              "// This uses a Promise to block the python side on completion of each step,\n",
              "// then passes the result of the previous step as the input to the next step.\n",
              "function _uploadFilesContinue(outputId) {\n",
              "  const outputElement = document.getElementById(outputId);\n",
              "  const steps = outputElement.steps;\n",
              "\n",
              "  const next = steps.next(outputElement.lastPromiseValue);\n",
              "  return Promise.resolve(next.value.promise).then((value) => {\n",
              "    // Cache the last promise value to make it available to the next\n",
              "    // step of the generator.\n",
              "    outputElement.lastPromiseValue = value;\n",
              "    return next.value.response;\n",
              "  });\n",
              "}\n",
              "\n",
              "/**\n",
              " * Generator function which is called between each async step of the upload\n",
              " * process.\n",
              " * @param {string} inputId Element ID of the input file picker element.\n",
              " * @param {string} outputId Element ID of the output display.\n",
              " * @return {!Iterable<!Object>} Iterable of next steps.\n",
              " */\n",
              "function* uploadFilesStep(inputId, outputId) {\n",
              "  const inputElement = document.getElementById(inputId);\n",
              "  inputElement.disabled = false;\n",
              "\n",
              "  const outputElement = document.getElementById(outputId);\n",
              "  outputElement.innerHTML = '';\n",
              "\n",
              "  const pickedPromise = new Promise((resolve) => {\n",
              "    inputElement.addEventListener('change', (e) => {\n",
              "      resolve(e.target.files);\n",
              "    });\n",
              "  });\n",
              "\n",
              "  const cancel = document.createElement('button');\n",
              "  inputElement.parentElement.appendChild(cancel);\n",
              "  cancel.textContent = 'Cancel upload';\n",
              "  const cancelPromise = new Promise((resolve) => {\n",
              "    cancel.onclick = () => {\n",
              "      resolve(null);\n",
              "    };\n",
              "  });\n",
              "\n",
              "  // Wait for the user to pick the files.\n",
              "  const files = yield {\n",
              "    promise: Promise.race([pickedPromise, cancelPromise]),\n",
              "    response: {\n",
              "      action: 'starting',\n",
              "    }\n",
              "  };\n",
              "\n",
              "  cancel.remove();\n",
              "\n",
              "  // Disable the input element since further picks are not allowed.\n",
              "  inputElement.disabled = true;\n",
              "\n",
              "  if (!files) {\n",
              "    return {\n",
              "      response: {\n",
              "        action: 'complete',\n",
              "      }\n",
              "    };\n",
              "  }\n",
              "\n",
              "  for (const file of files) {\n",
              "    const li = document.createElement('li');\n",
              "    li.append(span(file.name, {fontWeight: 'bold'}));\n",
              "    li.append(span(\n",
              "        `(${file.type || 'n/a'}) - ${file.size} bytes, ` +\n",
              "        `last modified: ${\n",
              "            file.lastModifiedDate ? file.lastModifiedDate.toLocaleDateString() :\n",
              "                                    'n/a'} - `));\n",
              "    const percent = span('0% done');\n",
              "    li.appendChild(percent);\n",
              "\n",
              "    outputElement.appendChild(li);\n",
              "\n",
              "    const fileDataPromise = new Promise((resolve) => {\n",
              "      const reader = new FileReader();\n",
              "      reader.onload = (e) => {\n",
              "        resolve(e.target.result);\n",
              "      };\n",
              "      reader.readAsArrayBuffer(file);\n",
              "    });\n",
              "    // Wait for the data to be ready.\n",
              "    let fileData = yield {\n",
              "      promise: fileDataPromise,\n",
              "      response: {\n",
              "        action: 'continue',\n",
              "      }\n",
              "    };\n",
              "\n",
              "    // Use a chunked sending to avoid message size limits. See b/62115660.\n",
              "    let position = 0;\n",
              "    do {\n",
              "      const length = Math.min(fileData.byteLength - position, MAX_PAYLOAD_SIZE);\n",
              "      const chunk = new Uint8Array(fileData, position, length);\n",
              "      position += length;\n",
              "\n",
              "      const base64 = btoa(String.fromCharCode.apply(null, chunk));\n",
              "      yield {\n",
              "        response: {\n",
              "          action: 'append',\n",
              "          file: file.name,\n",
              "          data: base64,\n",
              "        },\n",
              "      };\n",
              "\n",
              "      let percentDone = fileData.byteLength === 0 ?\n",
              "          100 :\n",
              "          Math.round((position / fileData.byteLength) * 100);\n",
              "      percent.textContent = `${percentDone}% done`;\n",
              "\n",
              "    } while (position < fileData.byteLength);\n",
              "  }\n",
              "\n",
              "  // All done.\n",
              "  yield {\n",
              "    response: {\n",
              "      action: 'complete',\n",
              "    }\n",
              "  };\n",
              "}\n",
              "\n",
              "scope.google = scope.google || {};\n",
              "scope.google.colab = scope.google.colab || {};\n",
              "scope.google.colab._files = {\n",
              "  _uploadFiles,\n",
              "  _uploadFilesContinue,\n",
              "};\n",
              "})(self);\n",
              "</script> "
            ]
          },
          "metadata": {}
        }
      ]
    },
    {
      "cell_type": "code",
      "source": [
        "#Download and Unzip the Dataset\n",
        "!kaggle datasets download -d farzadnekouei/trash-type-image-dataset\n",
        "!unzip -q trash-type-image-dataset.zip -d trash_dataset"
      ],
      "metadata": {
        "colab": {
          "base_uri": "https://localhost:8080/"
        },
        "id": "oXFjTfSn1kjJ",
        "outputId": "493893aa-175a-4048-c46f-e5211cb8ebef"
      },
      "id": "oXFjTfSn1kjJ",
      "execution_count": 17,
      "outputs": [
        {
          "output_type": "stream",
          "name": "stdout",
          "text": [
            "Dataset URL: https://www.kaggle.com/datasets/farzadnekouei/trash-type-image-dataset\n",
            "License(s): unknown\n",
            "User cancelled operation\n",
            "replace trash_dataset/TrashType_Image_Dataset/cardboard/cardboard_001.jpg? [y]es, [n]o, [A]ll, [N]one, [r]ename: "
          ]
        }
      ]
    },
    {
      "cell_type": "markdown",
      "source": [
        "2. Count pictures for each garbage type and check if they have the same size"
      ],
      "metadata": {
        "id": "8czjD2Bo4BSf"
      },
      "id": "8czjD2Bo4BSf"
    },
    {
      "cell_type": "code",
      "source": [
        "# Define the path where our dataset is stored\n",
        "dataset_path = '/content/trash_dataset/TrashType_Image_Dataset'\n",
        "\n",
        "# Retrieve the names of all folders (representing trash types) within the dataset directory\n",
        "garbage_types = os.listdir(dataset_path)\n",
        "print(\"Classes found:\", garbage_types)\n",
        "\n",
        "# Set to store unique image dimensions for the entire dataset\n",
        "all_dimensions_set = set()\n",
        "\n",
        "# Iterate over each trash type (folder) to process images\n",
        "for garbage_type in garbage_types:\n",
        "    folder_path = os.path.join(dataset_path, garbage_type)\n",
        "\n",
        "    # Verify that the current item is a directory\n",
        "    if os.path.isdir(folder_path):\n",
        "        image_files = [f for f in os.listdir(folder_path) if f.endswith(('jpg', 'jpeg'))]\n",
        "\n",
        "        # Display the count of images in the current folder\n",
        "        num_images = len(image_files)\n",
        "        print(f\"{garbage_type} folder contains {num_images} images.\")\n",
        "\n",
        "        # Loop over each image to check its dimensions\n",
        "        for image_file in image_files:\n",
        "            image_path = os.path.join(folder_path, image_file)\n",
        "            with Image.open(image_path) as img:\n",
        "                # Extract the width, height, and channels (color depth) of the image and add to the dimensions set\n",
        "                width, height = img.size\n",
        "                channels = len(img.getbands())\n",
        "                all_dimensions_set.add((width, height, channels))\n",
        "\n",
        "# Determine if all images in the entore dataset have the same dimensions\n",
        "if len(all_dimensions_set) == 1:\n",
        "    width, height, channel = all_dimensions_set.pop()\n",
        "    print(f\"\\nAll images in the dataset have the same dimensions: {width}x{height} with {channels} color channels.\")\n",
        "else:\n",
        "    print(\"\\nThe images in the dataset have different dimensions or color channels.\")"
      ],
      "metadata": {
        "colab": {
          "base_uri": "https://localhost:8080/"
        },
        "id": "6Gi6d6fsv6Sw",
        "outputId": "5b64ad80-8ef5-42b1-f3c4-034680c2ac85"
      },
      "id": "6Gi6d6fsv6Sw",
      "execution_count": 18,
      "outputs": [
        {
          "output_type": "stream",
          "name": "stdout",
          "text": [
            "Classes found: ['cardboard', 'paper', 'glass', 'plastic', 'metal', 'trash']\n",
            "cardboard folder contains 403 images.\n",
            "paper folder contains 594 images.\n",
            "glass folder contains 501 images.\n",
            "plastic folder contains 482 images.\n",
            "metal folder contains 410 images.\n",
            "trash folder contains 137 images.\n",
            "\n",
            "All images in the dataset have the same dimensions: 512x384 with 3 color channels.\n"
          ]
        }
      ]
    },
    {
      "cell_type": "markdown",
      "source": [
        "As we can see, there's a noticable class imbalance issue in this dataset, which can lead to bias in the model and the its accuracy could be deceiving (e.g. could get high accuracy by keeping guessing \"paper\"). Therefore, we will need to handle this class imbalance."
      ],
      "metadata": {
        "id": "pvfDbbrI6och"
      },
      "id": "pvfDbbrI6och"
    },
    {
      "cell_type": "markdown",
      "source": [
        "## 3. Dataset Preparation"
      ],
      "metadata": {
        "id": "YXymBbhB9Iok"
      },
      "id": "YXymBbhB9Iok"
    },
    {
      "cell_type": "markdown",
      "source": [
        "1. Create a DataFrame that contains file paths and corresponding labels."
      ],
      "metadata": {
        "id": "Y_mdwiNL9PLn"
      },
      "id": "Y_mdwiNL9PLn"
    },
    {
      "cell_type": "code",
      "source": [
        "# Initialize an empty list to store image file paths and their respective labels\n",
        "data = []\n",
        "\n",
        "# Loop through each garbage type and collect its images' file paths\n",
        "for garbage_type in garbage_types:\n",
        "    for file in os.listdir(os.path.join(dataset_path, garbage_type)):\n",
        "        # Append the image file path and its trash type (as a label) to the data list\n",
        "        data.append((os.path.join(dataset_path, garbage_type, file), garbage_type))\n",
        "\n",
        "# Convert the collected data into a DataFrame\n",
        "df = pd.DataFrame(data, columns=['filepath', 'label'])\n",
        "\n",
        "# Display the first few entries of the DataFrame\n",
        "df.head()"
      ],
      "metadata": {
        "colab": {
          "base_uri": "https://localhost:8080/",
          "height": 206
        },
        "id": "SpwxdZzE9MXq",
        "outputId": "38e2cc6e-0bcc-4781-83ff-d37b018658c2"
      },
      "id": "SpwxdZzE9MXq",
      "execution_count": 26,
      "outputs": [
        {
          "output_type": "execute_result",
          "data": {
            "text/plain": [
              "                                            filepath      label\n",
              "0  /content/trash_dataset/TrashType_Image_Dataset...  cardboard\n",
              "1  /content/trash_dataset/TrashType_Image_Dataset...  cardboard\n",
              "2  /content/trash_dataset/TrashType_Image_Dataset...  cardboard\n",
              "3  /content/trash_dataset/TrashType_Image_Dataset...  cardboard\n",
              "4  /content/trash_dataset/TrashType_Image_Dataset...  cardboard"
            ],
            "text/html": [
              "\n",
              "  <div id=\"df-e9997429-6bd5-48fd-af44-2e459cb18c38\" class=\"colab-df-container\">\n",
              "    <div>\n",
              "<style scoped>\n",
              "    .dataframe tbody tr th:only-of-type {\n",
              "        vertical-align: middle;\n",
              "    }\n",
              "\n",
              "    .dataframe tbody tr th {\n",
              "        vertical-align: top;\n",
              "    }\n",
              "\n",
              "    .dataframe thead th {\n",
              "        text-align: right;\n",
              "    }\n",
              "</style>\n",
              "<table border=\"1\" class=\"dataframe\">\n",
              "  <thead>\n",
              "    <tr style=\"text-align: right;\">\n",
              "      <th></th>\n",
              "      <th>filepath</th>\n",
              "      <th>label</th>\n",
              "    </tr>\n",
              "  </thead>\n",
              "  <tbody>\n",
              "    <tr>\n",
              "      <th>0</th>\n",
              "      <td>/content/trash_dataset/TrashType_Image_Dataset...</td>\n",
              "      <td>cardboard</td>\n",
              "    </tr>\n",
              "    <tr>\n",
              "      <th>1</th>\n",
              "      <td>/content/trash_dataset/TrashType_Image_Dataset...</td>\n",
              "      <td>cardboard</td>\n",
              "    </tr>\n",
              "    <tr>\n",
              "      <th>2</th>\n",
              "      <td>/content/trash_dataset/TrashType_Image_Dataset...</td>\n",
              "      <td>cardboard</td>\n",
              "    </tr>\n",
              "    <tr>\n",
              "      <th>3</th>\n",
              "      <td>/content/trash_dataset/TrashType_Image_Dataset...</td>\n",
              "      <td>cardboard</td>\n",
              "    </tr>\n",
              "    <tr>\n",
              "      <th>4</th>\n",
              "      <td>/content/trash_dataset/TrashType_Image_Dataset...</td>\n",
              "      <td>cardboard</td>\n",
              "    </tr>\n",
              "  </tbody>\n",
              "</table>\n",
              "</div>\n",
              "    <div class=\"colab-df-buttons\">\n",
              "\n",
              "  <div class=\"colab-df-container\">\n",
              "    <button class=\"colab-df-convert\" onclick=\"convertToInteractive('df-e9997429-6bd5-48fd-af44-2e459cb18c38')\"\n",
              "            title=\"Convert this dataframe to an interactive table.\"\n",
              "            style=\"display:none;\">\n",
              "\n",
              "  <svg xmlns=\"http://www.w3.org/2000/svg\" height=\"24px\" viewBox=\"0 -960 960 960\">\n",
              "    <path d=\"M120-120v-720h720v720H120Zm60-500h600v-160H180v160Zm220 220h160v-160H400v160Zm0 220h160v-160H400v160ZM180-400h160v-160H180v160Zm440 0h160v-160H620v160ZM180-180h160v-160H180v160Zm440 0h160v-160H620v160Z\"/>\n",
              "  </svg>\n",
              "    </button>\n",
              "\n",
              "  <style>\n",
              "    .colab-df-container {\n",
              "      display:flex;\n",
              "      gap: 12px;\n",
              "    }\n",
              "\n",
              "    .colab-df-convert {\n",
              "      background-color: #E8F0FE;\n",
              "      border: none;\n",
              "      border-radius: 50%;\n",
              "      cursor: pointer;\n",
              "      display: none;\n",
              "      fill: #1967D2;\n",
              "      height: 32px;\n",
              "      padding: 0 0 0 0;\n",
              "      width: 32px;\n",
              "    }\n",
              "\n",
              "    .colab-df-convert:hover {\n",
              "      background-color: #E2EBFA;\n",
              "      box-shadow: 0px 1px 2px rgba(60, 64, 67, 0.3), 0px 1px 3px 1px rgba(60, 64, 67, 0.15);\n",
              "      fill: #174EA6;\n",
              "    }\n",
              "\n",
              "    .colab-df-buttons div {\n",
              "      margin-bottom: 4px;\n",
              "    }\n",
              "\n",
              "    [theme=dark] .colab-df-convert {\n",
              "      background-color: #3B4455;\n",
              "      fill: #D2E3FC;\n",
              "    }\n",
              "\n",
              "    [theme=dark] .colab-df-convert:hover {\n",
              "      background-color: #434B5C;\n",
              "      box-shadow: 0px 1px 3px 1px rgba(0, 0, 0, 0.15);\n",
              "      filter: drop-shadow(0px 1px 2px rgba(0, 0, 0, 0.3));\n",
              "      fill: #FFFFFF;\n",
              "    }\n",
              "  </style>\n",
              "\n",
              "    <script>\n",
              "      const buttonEl =\n",
              "        document.querySelector('#df-e9997429-6bd5-48fd-af44-2e459cb18c38 button.colab-df-convert');\n",
              "      buttonEl.style.display =\n",
              "        google.colab.kernel.accessAllowed ? 'block' : 'none';\n",
              "\n",
              "      async function convertToInteractive(key) {\n",
              "        const element = document.querySelector('#df-e9997429-6bd5-48fd-af44-2e459cb18c38');\n",
              "        const dataTable =\n",
              "          await google.colab.kernel.invokeFunction('convertToInteractive',\n",
              "                                                    [key], {});\n",
              "        if (!dataTable) return;\n",
              "\n",
              "        const docLinkHtml = 'Like what you see? Visit the ' +\n",
              "          '<a target=\"_blank\" href=https://colab.research.google.com/notebooks/data_table.ipynb>data table notebook</a>'\n",
              "          + ' to learn more about interactive tables.';\n",
              "        element.innerHTML = '';\n",
              "        dataTable['output_type'] = 'display_data';\n",
              "        await google.colab.output.renderOutput(dataTable, element);\n",
              "        const docLink = document.createElement('div');\n",
              "        docLink.innerHTML = docLinkHtml;\n",
              "        element.appendChild(docLink);\n",
              "      }\n",
              "    </script>\n",
              "  </div>\n",
              "\n",
              "\n",
              "<div id=\"df-48122bdf-4f67-447e-92da-66722e598fa2\">\n",
              "  <button class=\"colab-df-quickchart\" onclick=\"quickchart('df-48122bdf-4f67-447e-92da-66722e598fa2')\"\n",
              "            title=\"Suggest charts\"\n",
              "            style=\"display:none;\">\n",
              "\n",
              "<svg xmlns=\"http://www.w3.org/2000/svg\" height=\"24px\"viewBox=\"0 0 24 24\"\n",
              "     width=\"24px\">\n",
              "    <g>\n",
              "        <path d=\"M19 3H5c-1.1 0-2 .9-2 2v14c0 1.1.9 2 2 2h14c1.1 0 2-.9 2-2V5c0-1.1-.9-2-2-2zM9 17H7v-7h2v7zm4 0h-2V7h2v10zm4 0h-2v-4h2v4z\"/>\n",
              "    </g>\n",
              "</svg>\n",
              "  </button>\n",
              "\n",
              "<style>\n",
              "  .colab-df-quickchart {\n",
              "      --bg-color: #E8F0FE;\n",
              "      --fill-color: #1967D2;\n",
              "      --hover-bg-color: #E2EBFA;\n",
              "      --hover-fill-color: #174EA6;\n",
              "      --disabled-fill-color: #AAA;\n",
              "      --disabled-bg-color: #DDD;\n",
              "  }\n",
              "\n",
              "  [theme=dark] .colab-df-quickchart {\n",
              "      --bg-color: #3B4455;\n",
              "      --fill-color: #D2E3FC;\n",
              "      --hover-bg-color: #434B5C;\n",
              "      --hover-fill-color: #FFFFFF;\n",
              "      --disabled-bg-color: #3B4455;\n",
              "      --disabled-fill-color: #666;\n",
              "  }\n",
              "\n",
              "  .colab-df-quickchart {\n",
              "    background-color: var(--bg-color);\n",
              "    border: none;\n",
              "    border-radius: 50%;\n",
              "    cursor: pointer;\n",
              "    display: none;\n",
              "    fill: var(--fill-color);\n",
              "    height: 32px;\n",
              "    padding: 0;\n",
              "    width: 32px;\n",
              "  }\n",
              "\n",
              "  .colab-df-quickchart:hover {\n",
              "    background-color: var(--hover-bg-color);\n",
              "    box-shadow: 0 1px 2px rgba(60, 64, 67, 0.3), 0 1px 3px 1px rgba(60, 64, 67, 0.15);\n",
              "    fill: var(--button-hover-fill-color);\n",
              "  }\n",
              "\n",
              "  .colab-df-quickchart-complete:disabled,\n",
              "  .colab-df-quickchart-complete:disabled:hover {\n",
              "    background-color: var(--disabled-bg-color);\n",
              "    fill: var(--disabled-fill-color);\n",
              "    box-shadow: none;\n",
              "  }\n",
              "\n",
              "  .colab-df-spinner {\n",
              "    border: 2px solid var(--fill-color);\n",
              "    border-color: transparent;\n",
              "    border-bottom-color: var(--fill-color);\n",
              "    animation:\n",
              "      spin 1s steps(1) infinite;\n",
              "  }\n",
              "\n",
              "  @keyframes spin {\n",
              "    0% {\n",
              "      border-color: transparent;\n",
              "      border-bottom-color: var(--fill-color);\n",
              "      border-left-color: var(--fill-color);\n",
              "    }\n",
              "    20% {\n",
              "      border-color: transparent;\n",
              "      border-left-color: var(--fill-color);\n",
              "      border-top-color: var(--fill-color);\n",
              "    }\n",
              "    30% {\n",
              "      border-color: transparent;\n",
              "      border-left-color: var(--fill-color);\n",
              "      border-top-color: var(--fill-color);\n",
              "      border-right-color: var(--fill-color);\n",
              "    }\n",
              "    40% {\n",
              "      border-color: transparent;\n",
              "      border-right-color: var(--fill-color);\n",
              "      border-top-color: var(--fill-color);\n",
              "    }\n",
              "    60% {\n",
              "      border-color: transparent;\n",
              "      border-right-color: var(--fill-color);\n",
              "    }\n",
              "    80% {\n",
              "      border-color: transparent;\n",
              "      border-right-color: var(--fill-color);\n",
              "      border-bottom-color: var(--fill-color);\n",
              "    }\n",
              "    90% {\n",
              "      border-color: transparent;\n",
              "      border-bottom-color: var(--fill-color);\n",
              "    }\n",
              "  }\n",
              "</style>\n",
              "\n",
              "  <script>\n",
              "    async function quickchart(key) {\n",
              "      const quickchartButtonEl =\n",
              "        document.querySelector('#' + key + ' button');\n",
              "      quickchartButtonEl.disabled = true;  // To prevent multiple clicks.\n",
              "      quickchartButtonEl.classList.add('colab-df-spinner');\n",
              "      try {\n",
              "        const charts = await google.colab.kernel.invokeFunction(\n",
              "            'suggestCharts', [key], {});\n",
              "      } catch (error) {\n",
              "        console.error('Error during call to suggestCharts:', error);\n",
              "      }\n",
              "      quickchartButtonEl.classList.remove('colab-df-spinner');\n",
              "      quickchartButtonEl.classList.add('colab-df-quickchart-complete');\n",
              "    }\n",
              "    (() => {\n",
              "      let quickchartButtonEl =\n",
              "        document.querySelector('#df-48122bdf-4f67-447e-92da-66722e598fa2 button');\n",
              "      quickchartButtonEl.style.display =\n",
              "        google.colab.kernel.accessAllowed ? 'block' : 'none';\n",
              "    })();\n",
              "  </script>\n",
              "</div>\n",
              "\n",
              "    </div>\n",
              "  </div>\n"
            ],
            "application/vnd.google.colaboratory.intrinsic+json": {
              "type": "dataframe",
              "variable_name": "df",
              "summary": "{\n  \"name\": \"df\",\n  \"rows\": 2527,\n  \"fields\": [\n    {\n      \"column\": \"filepath\",\n      \"properties\": {\n        \"dtype\": \"string\",\n        \"num_unique_values\": 2527,\n        \"samples\": [\n          \"/content/trash_dataset/TrashType_Image_Dataset/plastic/plastic_351.jpg\",\n          \"/content/trash_dataset/TrashType_Image_Dataset/paper/paper_183.jpg\",\n          \"/content/trash_dataset/TrashType_Image_Dataset/cardboard/cardboard_137.jpg\"\n        ],\n        \"semantic_type\": \"\",\n        \"description\": \"\"\n      }\n    },\n    {\n      \"column\": \"label\",\n      \"properties\": {\n        \"dtype\": \"category\",\n        \"num_unique_values\": 6,\n        \"samples\": [\n          \"cardboard\",\n          \"paper\",\n          \"trash\"\n        ],\n        \"semantic_type\": \"\",\n        \"description\": \"\"\n      }\n    }\n  ]\n}"
            }
          },
          "metadata": {},
          "execution_count": 26
        }
      ]
    },
    {
      "cell_type": "markdown",
      "source": [
        "2. Split the data into train and validation with stratification (maintains data distribution)"
      ],
      "metadata": {
        "id": "OGxGvwvj9lqh"
      },
      "id": "OGxGvwvj9lqh"
    },
    {
      "cell_type": "code",
      "source": [
        "# Split with stratification\n",
        "train_df, val_df = train_test_split(df, test_size=0.2, random_state=42, stratify=df['label'])\n",
        "\n",
        "# Print the number of images in each set\n",
        "print(f\"Number of images in the training set: {len(train_df)}\")\n",
        "print(f\"Number of images in the validation set: {len(val_df)}\")"
      ],
      "metadata": {
        "colab": {
          "base_uri": "https://localhost:8080/"
        },
        "id": "zKOJXgAZ9XBw",
        "outputId": "55180872-ca71-4202-fe9f-319dfad07f32"
      },
      "id": "zKOJXgAZ9XBw",
      "execution_count": 27,
      "outputs": [
        {
          "output_type": "stream",
          "name": "stdout",
          "text": [
            "Number of images in the training set: 2021\n",
            "Number of images in the validation set: 506\n"
          ]
        }
      ]
    },
    {
      "cell_type": "markdown",
      "source": [
        "3. Data Augmentation & Rescaling"
      ],
      "metadata": {
        "id": "3CFhXNkd-C3i"
      },
      "id": "3CFhXNkd-C3i"
    },
    {
      "cell_type": "code",
      "source": [
        "# Slight Augmentation settings for training\n",
        "train_datagen = ImageDataGenerator(\n",
        "    rescale=1./255,                     # Normalize pixel values to [0,1]\n",
        "    rotation_range=45,                  # Randomly rotate the images by up to 45 degrees\n",
        "    width_shift_range=0.15,             # Randomly shift images horizontally by up to 15% of the width\n",
        "    height_shift_range=0.15,            # Randomly shift images vertically by up to 15% of the height\n",
        "    zoom_range=0.15,                    # Randomly zoom in or out by up to 15%\n",
        "    horizontal_flip=True,               # Randomly flip images horizontally\n",
        "    vertical_flip=True,                 # Randomly flip images vertically\n",
        "    shear_range=0.05,                   # Apply slight shear transformations\n",
        "    brightness_range=[0.9, 1.1],        # Vary brightness between 90% to 110% of original\n",
        "    channel_shift_range=10,             # Randomly shift channels (can change colors of images slightly but less aggressively)\n",
        "    fill_mode='nearest'                 # Fill in missing pixels using the nearest filled value\n",
        ")\n",
        "\n",
        "# Only rescaling for validation\n",
        "val_datagen = ImageDataGenerator(rescale=1./255)"
      ],
      "metadata": {
        "id": "Bfg_ww6_-I4J"
      },
      "id": "Bfg_ww6_-I4J",
      "execution_count": 28,
      "outputs": []
    },
    {
      "cell_type": "markdown",
      "source": [
        "4. Generating batches of images"
      ],
      "metadata": {
        "id": "r6x7uWAb_yBY"
      },
      "id": "r6x7uWAb_yBY"
    },
    {
      "cell_type": "code",
      "source": [
        "# Using flow_from_dataframe to generate batches\n",
        "# Generate training batches from the training dataframe\n",
        "train_generator = train_datagen.flow_from_dataframe(\n",
        "    dataframe=train_df,                  # DataFrame containing training data\n",
        "    x_col=\"filepath\",                    # Column with paths to image files\n",
        "    y_col=\"label\",                       # Column with image labels\n",
        "    target_size=(384, 384),              # Resize all images to size of 384x384\n",
        "    batch_size=32,                       # Number of images per batch\n",
        "    class_mode='categorical',            # One-hot encode labels\n",
        "    seed=42,                             # Seed for random number generator to ensure reproducibility\n",
        "    shuffle=False                        # Data is not shuffled; order retained from DataFrame\n",
        ")\n",
        "\n",
        "\n",
        "# Generate validation batches from the validation dataframe\n",
        "val_generator = val_datagen.flow_from_dataframe(\n",
        "    dataframe=val_df,                    # DataFrame containing validation data\n",
        "    x_col=\"filepath\",                    # Column with paths to image files\n",
        "    y_col=\"label\",                       # Column with image labels\n",
        "    target_size=(384, 384),              # Resize all images to size of 384x384\n",
        "    batch_size=32,                       # Number of images per batch\n",
        "    class_mode='categorical',            # One-hot encode labels\n",
        "    seed=42,                             # Seed for random number generator to ensure reproducibility\n",
        "    shuffle=False                        # Data is not shuffled; order retained from DataFrame\n",
        ")"
      ],
      "metadata": {
        "colab": {
          "base_uri": "https://localhost:8080/"
        },
        "id": "6WPV8fl5_oPm",
        "outputId": "bbc5cf3e-23ee-4c28-b8e0-2fd0fbfb7173"
      },
      "id": "6WPV8fl5_oPm",
      "execution_count": 29,
      "outputs": [
        {
          "output_type": "stream",
          "name": "stdout",
          "text": [
            "Found 2021 validated image filenames belonging to 6 classes.\n",
            "Found 506 validated image filenames belonging to 6 classes.\n"
          ]
        }
      ]
    },
    {
      "cell_type": "code",
      "source": [
        "print(f\"Number of batches in train_generator: {len(train_generator)}\")\n",
        "print(f\"Number of batches in val_generator: {len(val_generator)}\")"
      ],
      "metadata": {
        "colab": {
          "base_uri": "https://localhost:8080/"
        },
        "id": "mjYGi6b0AF3R",
        "outputId": "dc867514-ef93-4d7e-9b6f-4e66217f16fb"
      },
      "id": "mjYGi6b0AF3R",
      "execution_count": 30,
      "outputs": [
        {
          "output_type": "stream",
          "name": "stdout",
          "text": [
            "Number of batches in train_generator: 64\n",
            "Number of batches in val_generator: 16\n"
          ]
        }
      ]
    },
    {
      "cell_type": "markdown",
      "source": [
        "## 4. Addressing Dataset Imbalances"
      ],
      "metadata": {
        "id": "7ZKZkxonALYt"
      },
      "id": "7ZKZkxonALYt"
    },
    {
      "cell_type": "code",
      "source": [
        "# Extract class labels from the 'label' column of train_df\n",
        "class_labels = train_df['label'].unique()\n",
        "class_labels"
      ],
      "metadata": {
        "colab": {
          "base_uri": "https://localhost:8080/"
        },
        "id": "5Oiv-taeAQND",
        "outputId": "54c95b4a-fae2-4bd4-a26e-1decad562d58"
      },
      "id": "5Oiv-taeAQND",
      "execution_count": 31,
      "outputs": [
        {
          "output_type": "execute_result",
          "data": {
            "text/plain": [
              "array(['trash', 'glass', 'paper', 'metal', 'plastic', 'cardboard'],\n",
              "      dtype=object)"
            ]
          },
          "metadata": {},
          "execution_count": 31
        }
      ]
    },
    {
      "cell_type": "code",
      "source": [
        "train_generator.class_indices"
      ],
      "metadata": {
        "colab": {
          "base_uri": "https://localhost:8080/"
        },
        "id": "_2Zj1y5bASS6",
        "outputId": "7c9ff6f9-525f-49c4-bd25-227c4d8fb1e4"
      },
      "id": "_2Zj1y5bASS6",
      "execution_count": 32,
      "outputs": [
        {
          "output_type": "execute_result",
          "data": {
            "text/plain": [
              "{'cardboard': 0, 'glass': 1, 'metal': 2, 'paper': 3, 'plastic': 4, 'trash': 5}"
            ]
          },
          "metadata": {},
          "execution_count": 32
        }
      ]
    },
    {
      "cell_type": "code",
      "source": [
        "# Compute class weights\n",
        "weights = compute_class_weight(class_weight='balanced', classes=class_labels, y=train_df['label'])\n",
        "weights"
      ],
      "metadata": {
        "colab": {
          "base_uri": "https://localhost:8080/"
        },
        "id": "yjxvSsnoAU2X",
        "outputId": "a96ce678-880a-4780-c654-25ac5071b97c"
      },
      "id": "yjxvSsnoAU2X",
      "execution_count": 33,
      "outputs": [
        {
          "output_type": "execute_result",
          "data": {
            "text/plain": [
              "array([3.06212121, 0.83998337, 0.70912281, 1.02693089, 0.87489177,\n",
              "       1.04606625])"
            ]
          },
          "metadata": {},
          "execution_count": 33
        }
      ]
    },
    {
      "cell_type": "code",
      "source": [
        "# Convert the computed weights to a dictionary for passing to model training\n",
        "class_weights = dict(zip(train_generator.class_indices.values(), weights))\n",
        "class_weights"
      ],
      "metadata": {
        "colab": {
          "base_uri": "https://localhost:8080/"
        },
        "id": "3uu5PWJWAWfq",
        "outputId": "ee667fd1-b8ca-44c8-c25a-72190255ce32"
      },
      "id": "3uu5PWJWAWfq",
      "execution_count": 34,
      "outputs": [
        {
          "output_type": "execute_result",
          "data": {
            "text/plain": [
              "{0: np.float64(3.062121212121212),\n",
              " 1: np.float64(0.8399833748960931),\n",
              " 2: np.float64(0.7091228070175438),\n",
              " 3: np.float64(1.026930894308943),\n",
              " 4: np.float64(0.8748917748917749),\n",
              " 5: np.float64(1.0460662525879918)}"
            ]
          },
          "metadata": {},
          "execution_count": 34
        }
      ]
    }
  ],
  "metadata": {
    "kernelspec": {
      "display_name": "cosc410",
      "language": "python",
      "name": "python3"
    },
    "language_info": {
      "codemirror_mode": {
        "name": "ipython",
        "version": 3
      },
      "file_extension": ".py",
      "mimetype": "text/x-python",
      "name": "python",
      "nbconvert_exporter": "python",
      "pygments_lexer": "ipython3",
      "version": "3.10.16"
    },
    "colab": {
      "provenance": []
    }
  },
  "nbformat": 4,
  "nbformat_minor": 5
}