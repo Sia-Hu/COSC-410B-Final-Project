{
 "cells": [
  {
   "cell_type": "markdown",
   "id": "aefe3c0f-1da0-43a5-85c7-ec1202a1e8ab",
   "metadata": {},
   "source": [
    "## Data description and preprocessing\n"
   ]
  },
  {
   "cell_type": "markdown",
   "id": "d8a114dc",
   "metadata": {},
   "source": [
    "1. Load dataset"
   ]
  },
  {
   "cell_type": "code",
   "execution_count": 9,
   "id": "23167fb5",
   "metadata": {},
   "outputs": [],
   "source": [
    "import os\n",
    "import pandas as pd\n",
    "dataset_path = '/Users/huxiyan/Desktop/H/25Spring/COSC410/TrashType_Image_Dataset'\n",
    "garbage_types = [d for d in os.listdir(dataset_path) if os.path.isdir(os.path.join(dataset_path, d))]\n",
    "\n",
    "dat = []\n",
    "for garbage_type in garbage_types:\n",
    "    folder_path = os.path.join(dataset_path, garbage_type)\n",
    "    for file in os.listdir(folder_path):\n",
    "        dat.append((os.path.join(dataset_path, garbage_type, file), garbage_type))\n",
    "        \n",
    "df = pd.DataFrame(dat, columns=['filepath', 'label'])"
   ]
  },
  {
   "cell_type": "markdown",
   "id": "d451da2c",
   "metadata": {},
   "source": [
    "2. Split"
   ]
  }
 ],
 "metadata": {
  "kernelspec": {
   "display_name": "cosc410",
   "language": "python",
   "name": "python3"
  },
  "language_info": {
   "codemirror_mode": {
    "name": "ipython",
    "version": 3
   },
   "file_extension": ".py",
   "mimetype": "text/x-python",
   "name": "python",
   "nbconvert_exporter": "python",
   "pygments_lexer": "ipython3",
   "version": "3.10.16"
  }
 },
 "nbformat": 4,
 "nbformat_minor": 5
}
